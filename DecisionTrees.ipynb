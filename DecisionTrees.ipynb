{
  "nbformat": 4,
  "nbformat_minor": 0,
  "metadata": {
    "colab": {
      "name": "DecisionTrees.ipynb",
      "provenance": [],
      "toc_visible": true,
      "mount_file_id": "1win1Kp8tTArr8AqHLKXpra_E7ytFx-QA",
      "authorship_tag": "ABX9TyPMATPollxcrtGAw/WICjaN",
      "include_colab_link": true
    },
    "kernelspec": {
      "name": "python3",
      "display_name": "Python 3"
    },
    "language_info": {
      "name": "python"
    }
  },
  "cells": [
    {
      "cell_type": "markdown",
      "metadata": {
        "id": "view-in-github",
        "colab_type": "text"
      },
      "source": [
        "<a href=\"https://colab.research.google.com/github/IkeLyons/HW2_DecisionTrees/blob/main/DecisionTrees.ipynb\" target=\"_parent\"><img src=\"https://colab.research.google.com/assets/colab-badge.svg\" alt=\"Open In Colab\"/></a>"
      ]
    },
    {
      "cell_type": "markdown",
      "metadata": {
        "id": "DCr0onZykDFq"
      },
      "source": [
        "# Task 1"
      ]
    },
    {
      "cell_type": "markdown",
      "metadata": {
        "id": "WkGO4WJpkb8X"
      },
      "source": [
        "The first step is to import the same data used in homework 1 (note they are commented out so that when I run all they dont run every time, if you are running for the first time you may need to uncomment all these first lines)"
      ]
    },
    {
      "cell_type": "code",
      "metadata": {
        "colab": {
          "base_uri": "https://localhost:8080/"
        },
        "id": "PCp_Gr-IfaTg",
        "outputId": "bdc3b4c3-1e9b-4305-aaf7-bd9769d00e8a"
      },
      "source": [
        "! pip install kaggle"
      ],
      "execution_count": 4,
      "outputs": [
        {
          "output_type": "stream",
          "name": "stdout",
          "text": [
            "Requirement already satisfied: kaggle in /usr/local/lib/python3.7/dist-packages (1.5.12)\n",
            "Requirement already satisfied: tqdm in /usr/local/lib/python3.7/dist-packages (from kaggle) (4.62.2)\n",
            "Requirement already satisfied: requests in /usr/local/lib/python3.7/dist-packages (from kaggle) (2.23.0)\n",
            "Requirement already satisfied: urllib3 in /usr/local/lib/python3.7/dist-packages (from kaggle) (1.24.3)\n",
            "Requirement already satisfied: python-slugify in /usr/local/lib/python3.7/dist-packages (from kaggle) (5.0.2)\n",
            "Requirement already satisfied: python-dateutil in /usr/local/lib/python3.7/dist-packages (from kaggle) (2.8.2)\n",
            "Requirement already satisfied: six>=1.10 in /usr/local/lib/python3.7/dist-packages (from kaggle) (1.15.0)\n",
            "Requirement already satisfied: certifi in /usr/local/lib/python3.7/dist-packages (from kaggle) (2021.5.30)\n",
            "Requirement already satisfied: text-unidecode>=1.3 in /usr/local/lib/python3.7/dist-packages (from python-slugify->kaggle) (1.3)\n",
            "Requirement already satisfied: idna<3,>=2.5 in /usr/local/lib/python3.7/dist-packages (from requests->kaggle) (2.10)\n",
            "Requirement already satisfied: chardet<4,>=3.0.2 in /usr/local/lib/python3.7/dist-packages (from requests->kaggle) (3.0.4)\n"
          ]
        }
      ]
    },
    {
      "cell_type": "code",
      "metadata": {
        "id": "WgxLYymhkOU2"
      },
      "source": [
        "! mkdir ~/.kaggle"
      ],
      "execution_count": 5,
      "outputs": []
    },
    {
      "cell_type": "code",
      "metadata": {
        "id": "tGMP3kvXkSkb"
      },
      "source": [
        "! cp /content/drive/MyDrive/kaggle.json ~/.kaggle/kaggle.json"
      ],
      "execution_count": 6,
      "outputs": []
    },
    {
      "cell_type": "code",
      "metadata": {
        "colab": {
          "base_uri": "https://localhost:8080/"
        },
        "id": "afm5ISWHlfzK",
        "outputId": "d05209da-81d8-4d94-9255-a9fbe1da651c"
      },
      "source": [
        "! kaggle datasets download tejashvi14/engineering-placements-prediction"
      ],
      "execution_count": 7,
      "outputs": [
        {
          "output_type": "stream",
          "name": "stdout",
          "text": [
            "Downloading engineering-placements-prediction.zip to /content\n",
            "\r  0% 0.00/10.0k [00:00<?, ?B/s]\n",
            "\r100% 10.0k/10.0k [00:00<00:00, 20.9MB/s]\n"
          ]
        }
      ]
    },
    {
      "cell_type": "code",
      "metadata": {
        "colab": {
          "base_uri": "https://localhost:8080/"
        },
        "id": "Lfd9RBzekZpP",
        "outputId": "664c37f3-f103-4250-8660-66166a3823ca"
      },
      "source": [
        "! unzip engineering-placements-prediction.zip"
      ],
      "execution_count": 8,
      "outputs": [
        {
          "output_type": "stream",
          "name": "stdout",
          "text": [
            "Archive:  engineering-placements-prediction.zip\n",
            "  inflating: collegePlace.csv        \n"
          ]
        }
      ]
    },
    {
      "cell_type": "code",
      "metadata": {
        "id": "tp_d8MmSkxpP"
      },
      "source": [
        "import pandas as pd\n",
        "dataset = pd.read_csv('collegePlace.csv', encoding='utf-8')"
      ],
      "execution_count": 9,
      "outputs": []
    },
    {
      "cell_type": "markdown",
      "metadata": {
        "id": "qLSYDfoxmQGD"
      },
      "source": [
        "Now do the same preprocessing that we did in homework 1"
      ]
    },
    {
      "cell_type": "code",
      "metadata": {
        "colab": {
          "base_uri": "https://localhost:8080/",
          "height": 206
        },
        "id": "T860fb_LmTzi",
        "outputId": "802ddc80-2195-4f1d-f8df-f8089c48aa49"
      },
      "source": [
        "from sklearn import preprocessing\n",
        "encoder = preprocessing.LabelEncoder()\n",
        "dataset.Stream = encoder.fit_transform(dataset.Stream)\n",
        "dataset.Gender = encoder.fit_transform(dataset.Gender)\n",
        "# see if the label encoding worked\n",
        "dataset.head()"
      ],
      "execution_count": 10,
      "outputs": [
        {
          "output_type": "execute_result",
          "data": {
            "text/html": [
              "<div>\n",
              "<style scoped>\n",
              "    .dataframe tbody tr th:only-of-type {\n",
              "        vertical-align: middle;\n",
              "    }\n",
              "\n",
              "    .dataframe tbody tr th {\n",
              "        vertical-align: top;\n",
              "    }\n",
              "\n",
              "    .dataframe thead th {\n",
              "        text-align: right;\n",
              "    }\n",
              "</style>\n",
              "<table border=\"1\" class=\"dataframe\">\n",
              "  <thead>\n",
              "    <tr style=\"text-align: right;\">\n",
              "      <th></th>\n",
              "      <th>Age</th>\n",
              "      <th>Gender</th>\n",
              "      <th>Stream</th>\n",
              "      <th>Internships</th>\n",
              "      <th>CGPA</th>\n",
              "      <th>Hostel</th>\n",
              "      <th>HistoryOfBacklogs</th>\n",
              "      <th>PlacedOrNot</th>\n",
              "    </tr>\n",
              "  </thead>\n",
              "  <tbody>\n",
              "    <tr>\n",
              "      <th>0</th>\n",
              "      <td>22</td>\n",
              "      <td>1</td>\n",
              "      <td>3</td>\n",
              "      <td>1</td>\n",
              "      <td>8</td>\n",
              "      <td>1</td>\n",
              "      <td>1</td>\n",
              "      <td>1</td>\n",
              "    </tr>\n",
              "    <tr>\n",
              "      <th>1</th>\n",
              "      <td>21</td>\n",
              "      <td>0</td>\n",
              "      <td>1</td>\n",
              "      <td>0</td>\n",
              "      <td>7</td>\n",
              "      <td>1</td>\n",
              "      <td>1</td>\n",
              "      <td>1</td>\n",
              "    </tr>\n",
              "    <tr>\n",
              "      <th>2</th>\n",
              "      <td>22</td>\n",
              "      <td>0</td>\n",
              "      <td>4</td>\n",
              "      <td>1</td>\n",
              "      <td>6</td>\n",
              "      <td>0</td>\n",
              "      <td>0</td>\n",
              "      <td>1</td>\n",
              "    </tr>\n",
              "    <tr>\n",
              "      <th>3</th>\n",
              "      <td>21</td>\n",
              "      <td>1</td>\n",
              "      <td>4</td>\n",
              "      <td>0</td>\n",
              "      <td>8</td>\n",
              "      <td>0</td>\n",
              "      <td>1</td>\n",
              "      <td>1</td>\n",
              "    </tr>\n",
              "    <tr>\n",
              "      <th>4</th>\n",
              "      <td>22</td>\n",
              "      <td>1</td>\n",
              "      <td>5</td>\n",
              "      <td>0</td>\n",
              "      <td>8</td>\n",
              "      <td>1</td>\n",
              "      <td>0</td>\n",
              "      <td>1</td>\n",
              "    </tr>\n",
              "  </tbody>\n",
              "</table>\n",
              "</div>"
            ],
            "text/plain": [
              "   Age  Gender  Stream  ...  Hostel  HistoryOfBacklogs  PlacedOrNot\n",
              "0   22       1       3  ...       1                  1            1\n",
              "1   21       0       1  ...       1                  1            1\n",
              "2   22       0       4  ...       0                  0            1\n",
              "3   21       1       4  ...       0                  1            1\n",
              "4   22       1       5  ...       1                  0            1\n",
              "\n",
              "[5 rows x 8 columns]"
            ]
          },
          "metadata": {},
          "execution_count": 10
        }
      ]
    },
    {
      "cell_type": "code",
      "metadata": {
        "id": "BoYb-glRmW0m"
      },
      "source": [
        "X = dataset.drop('PlacedOrNot', 1)\n",
        "y = dataset['PlacedOrNot']"
      ],
      "execution_count": 11,
      "outputs": []
    },
    {
      "cell_type": "code",
      "metadata": {
        "id": "hFHKQ449mcxV"
      },
      "source": [
        "from sklearn.model_selection import train_test_split\n",
        "\n",
        "X_train, X_test, y_train, y_test = train_test_split(X, y)\n",
        "y_train = y_train.to_numpy()\n",
        "y_test = y_test.to_numpy()"
      ],
      "execution_count": 12,
      "outputs": []
    },
    {
      "cell_type": "markdown",
      "metadata": {
        "id": "S4nuelW0ohLI"
      },
      "source": [
        "Now we will begin making and testing the different decision trees. First, lets start by using the gini criterion, with default parameters."
      ]
    },
    {
      "cell_type": "code",
      "metadata": {
        "colab": {
          "base_uri": "https://localhost:8080/"
        },
        "id": "19oDf3R-o0iX",
        "outputId": "1e910818-bc53-440d-f947-d744dfec97b0"
      },
      "source": [
        "from sklearn.tree import DecisionTreeClassifier\n",
        "giniModel = DecisionTreeClassifier(criterion=\"gini\")   \n",
        "giniModel.fit(X_train,y_train)"
      ],
      "execution_count": 13,
      "outputs": [
        {
          "output_type": "execute_result",
          "data": {
            "text/plain": [
              "DecisionTreeClassifier(ccp_alpha=0.0, class_weight=None, criterion='gini',\n",
              "                       max_depth=None, max_features=None, max_leaf_nodes=None,\n",
              "                       min_impurity_decrease=0.0, min_impurity_split=None,\n",
              "                       min_samples_leaf=1, min_samples_split=2,\n",
              "                       min_weight_fraction_leaf=0.0, presort='deprecated',\n",
              "                       random_state=None, splitter='best')"
            ]
          },
          "metadata": {},
          "execution_count": 13
        }
      ]
    },
    {
      "cell_type": "code",
      "metadata": {
        "colab": {
          "base_uri": "https://localhost:8080/"
        },
        "id": "hI6KNqIuv6-a",
        "outputId": "fbc7717f-0651-465f-81a0-febcb728ff42"
      },
      "source": [
        "from sklearn.metrics import accuracy_score,classification_report,confusion_matrix\n",
        "predict = giniModel.predict(X_test)\n",
        "accuracy_score(y_test, predict)"
      ],
      "execution_count": 14,
      "outputs": [
        {
          "output_type": "execute_result",
          "data": {
            "text/plain": [
              "0.8800539083557951"
            ]
          },
          "metadata": {},
          "execution_count": 14
        }
      ]
    },
    {
      "cell_type": "code",
      "metadata": {
        "colab": {
          "base_uri": "https://localhost:8080/"
        },
        "id": "c80Rwxae_03F",
        "outputId": "b757fc62-811e-43d4-984f-47303a723751"
      },
      "source": [
        "from sklearn.tree import export_text\n",
        "feature_names = list(X.columns)\n",
        "r = export_text(giniModel, feature_names=feature_names)\n",
        "print(r)"
      ],
      "execution_count": 15,
      "outputs": [
        {
          "output_type": "stream",
          "name": "stdout",
          "text": [
            "|--- CGPA <= 7.50\n",
            "|   |--- Internships <= 1.50\n",
            "|   |   |--- Age <= 23.50\n",
            "|   |   |   |--- Stream <= 4.50\n",
            "|   |   |   |   |--- Stream <= 0.50\n",
            "|   |   |   |   |   |--- HistoryOfBacklogs <= 0.50\n",
            "|   |   |   |   |   |   |--- Gender <= 0.50\n",
            "|   |   |   |   |   |   |   |--- class: 0\n",
            "|   |   |   |   |   |   |--- Gender >  0.50\n",
            "|   |   |   |   |   |   |   |--- Age <= 22.50\n",
            "|   |   |   |   |   |   |   |   |--- CGPA <= 6.50\n",
            "|   |   |   |   |   |   |   |   |   |--- Internships <= 0.50\n",
            "|   |   |   |   |   |   |   |   |   |   |--- Hostel <= 0.50\n",
            "|   |   |   |   |   |   |   |   |   |   |   |--- truncated branch of depth 4\n",
            "|   |   |   |   |   |   |   |   |   |   |--- Hostel >  0.50\n",
            "|   |   |   |   |   |   |   |   |   |   |   |--- class: 0\n",
            "|   |   |   |   |   |   |   |   |   |--- Internships >  0.50\n",
            "|   |   |   |   |   |   |   |   |   |   |--- Age <= 20.50\n",
            "|   |   |   |   |   |   |   |   |   |   |   |--- truncated branch of depth 3\n",
            "|   |   |   |   |   |   |   |   |   |   |--- Age >  20.50\n",
            "|   |   |   |   |   |   |   |   |   |   |   |--- truncated branch of depth 3\n",
            "|   |   |   |   |   |   |   |   |--- CGPA >  6.50\n",
            "|   |   |   |   |   |   |   |   |   |--- Internships <= 0.50\n",
            "|   |   |   |   |   |   |   |   |   |   |--- Age <= 20.50\n",
            "|   |   |   |   |   |   |   |   |   |   |   |--- class: 0\n",
            "|   |   |   |   |   |   |   |   |   |   |--- Age >  20.50\n",
            "|   |   |   |   |   |   |   |   |   |   |   |--- truncated branch of depth 3\n",
            "|   |   |   |   |   |   |   |   |   |--- Internships >  0.50\n",
            "|   |   |   |   |   |   |   |   |   |   |--- class: 0\n",
            "|   |   |   |   |   |   |   |--- Age >  22.50\n",
            "|   |   |   |   |   |   |   |   |--- Hostel <= 0.50\n",
            "|   |   |   |   |   |   |   |   |   |--- class: 0\n",
            "|   |   |   |   |   |   |   |   |--- Hostel >  0.50\n",
            "|   |   |   |   |   |   |   |   |   |--- class: 1\n",
            "|   |   |   |   |   |--- HistoryOfBacklogs >  0.50\n",
            "|   |   |   |   |   |   |--- class: 0\n",
            "|   |   |   |   |--- Stream >  0.50\n",
            "|   |   |   |   |   |--- CGPA <= 6.50\n",
            "|   |   |   |   |   |   |--- Age <= 20.50\n",
            "|   |   |   |   |   |   |   |--- HistoryOfBacklogs <= 0.50\n",
            "|   |   |   |   |   |   |   |   |--- Age <= 19.50\n",
            "|   |   |   |   |   |   |   |   |   |--- Stream <= 1.50\n",
            "|   |   |   |   |   |   |   |   |   |   |--- Internships <= 0.50\n",
            "|   |   |   |   |   |   |   |   |   |   |   |--- class: 0\n",
            "|   |   |   |   |   |   |   |   |   |   |--- Internships >  0.50\n",
            "|   |   |   |   |   |   |   |   |   |   |   |--- truncated branch of depth 2\n",
            "|   |   |   |   |   |   |   |   |   |--- Stream >  1.50\n",
            "|   |   |   |   |   |   |   |   |   |   |--- class: 0\n",
            "|   |   |   |   |   |   |   |   |--- Age >  19.50\n",
            "|   |   |   |   |   |   |   |   |   |--- class: 0\n",
            "|   |   |   |   |   |   |   |--- HistoryOfBacklogs >  0.50\n",
            "|   |   |   |   |   |   |   |   |--- Internships <= 0.50\n",
            "|   |   |   |   |   |   |   |   |   |--- class: 0\n",
            "|   |   |   |   |   |   |   |   |--- Internships >  0.50\n",
            "|   |   |   |   |   |   |   |   |   |--- Age <= 19.50\n",
            "|   |   |   |   |   |   |   |   |   |   |--- class: 1\n",
            "|   |   |   |   |   |   |   |   |   |--- Age >  19.50\n",
            "|   |   |   |   |   |   |   |   |   |   |--- Gender <= 0.50\n",
            "|   |   |   |   |   |   |   |   |   |   |   |--- class: 1\n",
            "|   |   |   |   |   |   |   |   |   |   |--- Gender >  0.50\n",
            "|   |   |   |   |   |   |   |   |   |   |   |--- class: 0\n",
            "|   |   |   |   |   |   |--- Age >  20.50\n",
            "|   |   |   |   |   |   |   |--- Stream <= 3.50\n",
            "|   |   |   |   |   |   |   |   |--- Stream <= 1.50\n",
            "|   |   |   |   |   |   |   |   |   |--- Age <= 21.50\n",
            "|   |   |   |   |   |   |   |   |   |   |--- CGPA <= 5.50\n",
            "|   |   |   |   |   |   |   |   |   |   |   |--- class: 0\n",
            "|   |   |   |   |   |   |   |   |   |   |--- CGPA >  5.50\n",
            "|   |   |   |   |   |   |   |   |   |   |   |--- truncated branch of depth 5\n",
            "|   |   |   |   |   |   |   |   |   |--- Age >  21.50\n",
            "|   |   |   |   |   |   |   |   |   |   |--- HistoryOfBacklogs <= 0.50\n",
            "|   |   |   |   |   |   |   |   |   |   |   |--- truncated branch of depth 5\n",
            "|   |   |   |   |   |   |   |   |   |   |--- HistoryOfBacklogs >  0.50\n",
            "|   |   |   |   |   |   |   |   |   |   |   |--- truncated branch of depth 3\n",
            "|   |   |   |   |   |   |   |   |--- Stream >  1.50\n",
            "|   |   |   |   |   |   |   |   |   |--- CGPA <= 5.50\n",
            "|   |   |   |   |   |   |   |   |   |   |--- class: 0\n",
            "|   |   |   |   |   |   |   |   |   |--- CGPA >  5.50\n",
            "|   |   |   |   |   |   |   |   |   |   |--- Age <= 21.50\n",
            "|   |   |   |   |   |   |   |   |   |   |   |--- truncated branch of depth 6\n",
            "|   |   |   |   |   |   |   |   |   |   |--- Age >  21.50\n",
            "|   |   |   |   |   |   |   |   |   |   |   |--- truncated branch of depth 7\n",
            "|   |   |   |   |   |   |   |--- Stream >  3.50\n",
            "|   |   |   |   |   |   |   |   |--- Hostel <= 0.50\n",
            "|   |   |   |   |   |   |   |   |   |--- CGPA <= 5.50\n",
            "|   |   |   |   |   |   |   |   |   |   |--- Age <= 22.50\n",
            "|   |   |   |   |   |   |   |   |   |   |   |--- class: 0\n",
            "|   |   |   |   |   |   |   |   |   |   |--- Age >  22.50\n",
            "|   |   |   |   |   |   |   |   |   |   |   |--- truncated branch of depth 2\n",
            "|   |   |   |   |   |   |   |   |   |--- CGPA >  5.50\n",
            "|   |   |   |   |   |   |   |   |   |   |--- Age <= 21.50\n",
            "|   |   |   |   |   |   |   |   |   |   |   |--- truncated branch of depth 4\n",
            "|   |   |   |   |   |   |   |   |   |   |--- Age >  21.50\n",
            "|   |   |   |   |   |   |   |   |   |   |   |--- truncated branch of depth 5\n",
            "|   |   |   |   |   |   |   |   |--- Hostel >  0.50\n",
            "|   |   |   |   |   |   |   |   |   |--- HistoryOfBacklogs <= 0.50\n",
            "|   |   |   |   |   |   |   |   |   |   |--- class: 0\n",
            "|   |   |   |   |   |   |   |   |   |--- HistoryOfBacklogs >  0.50\n",
            "|   |   |   |   |   |   |   |   |   |   |--- CGPA <= 5.50\n",
            "|   |   |   |   |   |   |   |   |   |   |   |--- class: 0\n",
            "|   |   |   |   |   |   |   |   |   |   |--- CGPA >  5.50\n",
            "|   |   |   |   |   |   |   |   |   |   |   |--- class: 1\n",
            "|   |   |   |   |   |--- CGPA >  6.50\n",
            "|   |   |   |   |   |   |--- Internships <= 0.50\n",
            "|   |   |   |   |   |   |   |--- Stream <= 2.50\n",
            "|   |   |   |   |   |   |   |   |--- Stream <= 1.50\n",
            "|   |   |   |   |   |   |   |   |   |--- HistoryOfBacklogs <= 0.50\n",
            "|   |   |   |   |   |   |   |   |   |   |--- Gender <= 0.50\n",
            "|   |   |   |   |   |   |   |   |   |   |   |--- class: 0\n",
            "|   |   |   |   |   |   |   |   |   |   |--- Gender >  0.50\n",
            "|   |   |   |   |   |   |   |   |   |   |   |--- truncated branch of depth 5\n",
            "|   |   |   |   |   |   |   |   |   |--- HistoryOfBacklogs >  0.50\n",
            "|   |   |   |   |   |   |   |   |   |   |--- Hostel <= 0.50\n",
            "|   |   |   |   |   |   |   |   |   |   |   |--- class: 0\n",
            "|   |   |   |   |   |   |   |   |   |   |--- Hostel >  0.50\n",
            "|   |   |   |   |   |   |   |   |   |   |   |--- truncated branch of depth 3\n",
            "|   |   |   |   |   |   |   |   |--- Stream >  1.50\n",
            "|   |   |   |   |   |   |   |   |   |--- Age <= 21.50\n",
            "|   |   |   |   |   |   |   |   |   |   |--- Gender <= 0.50\n",
            "|   |   |   |   |   |   |   |   |   |   |   |--- class: 0\n",
            "|   |   |   |   |   |   |   |   |   |   |--- Gender >  0.50\n",
            "|   |   |   |   |   |   |   |   |   |   |   |--- truncated branch of depth 3\n",
            "|   |   |   |   |   |   |   |   |   |--- Age >  21.50\n",
            "|   |   |   |   |   |   |   |   |   |   |--- class: 0\n",
            "|   |   |   |   |   |   |   |--- Stream >  2.50\n",
            "|   |   |   |   |   |   |   |   |--- Age <= 21.50\n",
            "|   |   |   |   |   |   |   |   |   |--- Stream <= 3.50\n",
            "|   |   |   |   |   |   |   |   |   |   |--- HistoryOfBacklogs <= 0.50\n",
            "|   |   |   |   |   |   |   |   |   |   |   |--- truncated branch of depth 4\n",
            "|   |   |   |   |   |   |   |   |   |   |--- HistoryOfBacklogs >  0.50\n",
            "|   |   |   |   |   |   |   |   |   |   |   |--- class: 0\n",
            "|   |   |   |   |   |   |   |   |   |--- Stream >  3.50\n",
            "|   |   |   |   |   |   |   |   |   |   |--- Gender <= 0.50\n",
            "|   |   |   |   |   |   |   |   |   |   |   |--- truncated branch of depth 2\n",
            "|   |   |   |   |   |   |   |   |   |   |--- Gender >  0.50\n",
            "|   |   |   |   |   |   |   |   |   |   |   |--- truncated branch of depth 3\n",
            "|   |   |   |   |   |   |   |   |--- Age >  21.50\n",
            "|   |   |   |   |   |   |   |   |   |--- Stream <= 3.50\n",
            "|   |   |   |   |   |   |   |   |   |   |--- Age <= 22.50\n",
            "|   |   |   |   |   |   |   |   |   |   |   |--- truncated branch of depth 2\n",
            "|   |   |   |   |   |   |   |   |   |   |--- Age >  22.50\n",
            "|   |   |   |   |   |   |   |   |   |   |   |--- truncated branch of depth 2\n",
            "|   |   |   |   |   |   |   |   |   |--- Stream >  3.50\n",
            "|   |   |   |   |   |   |   |   |   |   |--- Age <= 22.50\n",
            "|   |   |   |   |   |   |   |   |   |   |   |--- truncated branch of depth 3\n",
            "|   |   |   |   |   |   |   |   |   |   |--- Age >  22.50\n",
            "|   |   |   |   |   |   |   |   |   |   |   |--- truncated branch of depth 2\n",
            "|   |   |   |   |   |   |--- Internships >  0.50\n",
            "|   |   |   |   |   |   |   |--- HistoryOfBacklogs <= 0.50\n",
            "|   |   |   |   |   |   |   |   |--- Age <= 22.50\n",
            "|   |   |   |   |   |   |   |   |   |--- Age <= 20.50\n",
            "|   |   |   |   |   |   |   |   |   |   |--- Stream <= 1.50\n",
            "|   |   |   |   |   |   |   |   |   |   |   |--- truncated branch of depth 3\n",
            "|   |   |   |   |   |   |   |   |   |   |--- Stream >  1.50\n",
            "|   |   |   |   |   |   |   |   |   |   |   |--- truncated branch of depth 5\n",
            "|   |   |   |   |   |   |   |   |   |--- Age >  20.50\n",
            "|   |   |   |   |   |   |   |   |   |   |--- Hostel <= 0.50\n",
            "|   |   |   |   |   |   |   |   |   |   |   |--- truncated branch of depth 5\n",
            "|   |   |   |   |   |   |   |   |   |   |--- Hostel >  0.50\n",
            "|   |   |   |   |   |   |   |   |   |   |   |--- truncated branch of depth 5\n",
            "|   |   |   |   |   |   |   |   |--- Age >  22.50\n",
            "|   |   |   |   |   |   |   |   |   |--- Hostel <= 0.50\n",
            "|   |   |   |   |   |   |   |   |   |   |--- Stream <= 1.50\n",
            "|   |   |   |   |   |   |   |   |   |   |   |--- class: 0\n",
            "|   |   |   |   |   |   |   |   |   |   |--- Stream >  1.50\n",
            "|   |   |   |   |   |   |   |   |   |   |   |--- truncated branch of depth 3\n",
            "|   |   |   |   |   |   |   |   |   |--- Hostel >  0.50\n",
            "|   |   |   |   |   |   |   |   |   |   |--- class: 1\n",
            "|   |   |   |   |   |   |   |--- HistoryOfBacklogs >  0.50\n",
            "|   |   |   |   |   |   |   |   |--- Age <= 21.50\n",
            "|   |   |   |   |   |   |   |   |   |--- Stream <= 3.50\n",
            "|   |   |   |   |   |   |   |   |   |   |--- Stream <= 2.50\n",
            "|   |   |   |   |   |   |   |   |   |   |   |--- truncated branch of depth 3\n",
            "|   |   |   |   |   |   |   |   |   |   |--- Stream >  2.50\n",
            "|   |   |   |   |   |   |   |   |   |   |   |--- truncated branch of depth 3\n",
            "|   |   |   |   |   |   |   |   |   |--- Stream >  3.50\n",
            "|   |   |   |   |   |   |   |   |   |   |--- Gender <= 0.50\n",
            "|   |   |   |   |   |   |   |   |   |   |   |--- truncated branch of depth 2\n",
            "|   |   |   |   |   |   |   |   |   |   |--- Gender >  0.50\n",
            "|   |   |   |   |   |   |   |   |   |   |   |--- class: 0\n",
            "|   |   |   |   |   |   |   |   |--- Age >  21.50\n",
            "|   |   |   |   |   |   |   |   |   |--- Age <= 22.50\n",
            "|   |   |   |   |   |   |   |   |   |   |--- Stream <= 3.50\n",
            "|   |   |   |   |   |   |   |   |   |   |   |--- truncated branch of depth 4\n",
            "|   |   |   |   |   |   |   |   |   |   |--- Stream >  3.50\n",
            "|   |   |   |   |   |   |   |   |   |   |   |--- truncated branch of depth 2\n",
            "|   |   |   |   |   |   |   |   |   |--- Age >  22.50\n",
            "|   |   |   |   |   |   |   |   |   |   |--- class: 1\n",
            "|   |   |   |--- Stream >  4.50\n",
            "|   |   |   |   |--- Internships <= 0.50\n",
            "|   |   |   |   |   |--- HistoryOfBacklogs <= 0.50\n",
            "|   |   |   |   |   |   |--- CGPA <= 6.50\n",
            "|   |   |   |   |   |   |   |--- Hostel <= 0.50\n",
            "|   |   |   |   |   |   |   |   |--- Age <= 20.50\n",
            "|   |   |   |   |   |   |   |   |   |--- class: 1\n",
            "|   |   |   |   |   |   |   |   |--- Age >  20.50\n",
            "|   |   |   |   |   |   |   |   |   |--- class: 0\n",
            "|   |   |   |   |   |   |   |--- Hostel >  0.50\n",
            "|   |   |   |   |   |   |   |   |--- Age <= 20.50\n",
            "|   |   |   |   |   |   |   |   |   |--- class: 0\n",
            "|   |   |   |   |   |   |   |   |--- Age >  20.50\n",
            "|   |   |   |   |   |   |   |   |   |--- Age <= 21.50\n",
            "|   |   |   |   |   |   |   |   |   |   |--- class: 0\n",
            "|   |   |   |   |   |   |   |   |   |--- Age >  21.50\n",
            "|   |   |   |   |   |   |   |   |   |   |--- Age <= 22.50\n",
            "|   |   |   |   |   |   |   |   |   |   |   |--- truncated branch of depth 2\n",
            "|   |   |   |   |   |   |   |   |   |   |--- Age >  22.50\n",
            "|   |   |   |   |   |   |   |   |   |   |   |--- truncated branch of depth 2\n",
            "|   |   |   |   |   |   |--- CGPA >  6.50\n",
            "|   |   |   |   |   |   |   |--- Age <= 21.50\n",
            "|   |   |   |   |   |   |   |   |--- Age <= 20.50\n",
            "|   |   |   |   |   |   |   |   |   |--- class: 0\n",
            "|   |   |   |   |   |   |   |   |--- Age >  20.50\n",
            "|   |   |   |   |   |   |   |   |   |--- Hostel <= 0.50\n",
            "|   |   |   |   |   |   |   |   |   |   |--- class: 0\n",
            "|   |   |   |   |   |   |   |   |   |--- Hostel >  0.50\n",
            "|   |   |   |   |   |   |   |   |   |   |--- class: 0\n",
            "|   |   |   |   |   |   |   |--- Age >  21.50\n",
            "|   |   |   |   |   |   |   |   |--- Age <= 22.50\n",
            "|   |   |   |   |   |   |   |   |   |--- Hostel <= 0.50\n",
            "|   |   |   |   |   |   |   |   |   |   |--- class: 0\n",
            "|   |   |   |   |   |   |   |   |   |--- Hostel >  0.50\n",
            "|   |   |   |   |   |   |   |   |   |   |--- class: 0\n",
            "|   |   |   |   |   |   |   |   |--- Age >  22.50\n",
            "|   |   |   |   |   |   |   |   |   |--- class: 0\n",
            "|   |   |   |   |   |--- HistoryOfBacklogs >  0.50\n",
            "|   |   |   |   |   |   |--- Hostel <= 0.50\n",
            "|   |   |   |   |   |   |   |--- CGPA <= 6.50\n",
            "|   |   |   |   |   |   |   |   |--- class: 0\n",
            "|   |   |   |   |   |   |   |--- CGPA >  6.50\n",
            "|   |   |   |   |   |   |   |   |--- class: 1\n",
            "|   |   |   |   |   |   |--- Hostel >  0.50\n",
            "|   |   |   |   |   |   |   |--- CGPA <= 5.50\n",
            "|   |   |   |   |   |   |   |   |--- class: 0\n",
            "|   |   |   |   |   |   |   |--- CGPA >  5.50\n",
            "|   |   |   |   |   |   |   |   |--- Age <= 19.50\n",
            "|   |   |   |   |   |   |   |   |   |--- class: 0\n",
            "|   |   |   |   |   |   |   |   |--- Age >  19.50\n",
            "|   |   |   |   |   |   |   |   |   |--- Age <= 20.50\n",
            "|   |   |   |   |   |   |   |   |   |   |--- CGPA <= 6.50\n",
            "|   |   |   |   |   |   |   |   |   |   |   |--- class: 0\n",
            "|   |   |   |   |   |   |   |   |   |   |--- CGPA >  6.50\n",
            "|   |   |   |   |   |   |   |   |   |   |   |--- class: 1\n",
            "|   |   |   |   |   |   |   |   |   |--- Age >  20.50\n",
            "|   |   |   |   |   |   |   |   |   |   |--- CGPA <= 6.50\n",
            "|   |   |   |   |   |   |   |   |   |   |   |--- truncated branch of depth 2\n",
            "|   |   |   |   |   |   |   |   |   |   |--- CGPA >  6.50\n",
            "|   |   |   |   |   |   |   |   |   |   |   |--- class: 0\n",
            "|   |   |   |   |--- Internships >  0.50\n",
            "|   |   |   |   |   |--- Age <= 22.50\n",
            "|   |   |   |   |   |   |--- class: 0\n",
            "|   |   |   |   |   |--- Age >  22.50\n",
            "|   |   |   |   |   |   |--- HistoryOfBacklogs <= 0.50\n",
            "|   |   |   |   |   |   |   |--- class: 0\n",
            "|   |   |   |   |   |   |--- HistoryOfBacklogs >  0.50\n",
            "|   |   |   |   |   |   |   |--- class: 1\n",
            "|   |   |--- Age >  23.50\n",
            "|   |   |   |--- CGPA <= 6.50\n",
            "|   |   |   |   |--- CGPA <= 5.50\n",
            "|   |   |   |   |   |--- Stream <= 3.50\n",
            "|   |   |   |   |   |   |--- class: 0\n",
            "|   |   |   |   |   |--- Stream >  3.50\n",
            "|   |   |   |   |   |   |--- Internships <= 0.50\n",
            "|   |   |   |   |   |   |   |--- Gender <= 0.50\n",
            "|   |   |   |   |   |   |   |   |--- class: 0\n",
            "|   |   |   |   |   |   |   |--- Gender >  0.50\n",
            "|   |   |   |   |   |   |   |   |--- class: 1\n",
            "|   |   |   |   |   |   |--- Internships >  0.50\n",
            "|   |   |   |   |   |   |   |--- class: 0\n",
            "|   |   |   |   |--- CGPA >  5.50\n",
            "|   |   |   |   |   |--- class: 1\n",
            "|   |   |   |--- CGPA >  6.50\n",
            "|   |   |   |   |--- Hostel <= 0.50\n",
            "|   |   |   |   |   |--- Internships <= 0.50\n",
            "|   |   |   |   |   |   |--- Stream <= 3.50\n",
            "|   |   |   |   |   |   |   |--- Stream <= 0.50\n",
            "|   |   |   |   |   |   |   |   |--- Age <= 25.00\n",
            "|   |   |   |   |   |   |   |   |   |--- class: 0\n",
            "|   |   |   |   |   |   |   |   |--- Age >  25.00\n",
            "|   |   |   |   |   |   |   |   |   |--- class: 0\n",
            "|   |   |   |   |   |   |   |--- Stream >  0.50\n",
            "|   |   |   |   |   |   |   |   |--- class: 0\n",
            "|   |   |   |   |   |   |--- Stream >  3.50\n",
            "|   |   |   |   |   |   |   |--- HistoryOfBacklogs <= 0.50\n",
            "|   |   |   |   |   |   |   |   |--- Age <= 24.50\n",
            "|   |   |   |   |   |   |   |   |   |--- class: 0\n",
            "|   |   |   |   |   |   |   |   |--- Age >  24.50\n",
            "|   |   |   |   |   |   |   |   |   |--- Age <= 25.50\n",
            "|   |   |   |   |   |   |   |   |   |   |--- class: 1\n",
            "|   |   |   |   |   |   |   |   |   |--- Age >  25.50\n",
            "|   |   |   |   |   |   |   |   |   |   |--- class: 0\n",
            "|   |   |   |   |   |   |   |--- HistoryOfBacklogs >  0.50\n",
            "|   |   |   |   |   |   |   |   |--- class: 0\n",
            "|   |   |   |   |   |--- Internships >  0.50\n",
            "|   |   |   |   |   |   |--- HistoryOfBacklogs <= 0.50\n",
            "|   |   |   |   |   |   |   |--- Gender <= 0.50\n",
            "|   |   |   |   |   |   |   |   |--- Stream <= 4.50\n",
            "|   |   |   |   |   |   |   |   |   |--- class: 0\n",
            "|   |   |   |   |   |   |   |   |--- Stream >  4.50\n",
            "|   |   |   |   |   |   |   |   |   |--- class: 1\n",
            "|   |   |   |   |   |   |   |--- Gender >  0.50\n",
            "|   |   |   |   |   |   |   |   |--- Stream <= 2.50\n",
            "|   |   |   |   |   |   |   |   |   |--- Age <= 25.50\n",
            "|   |   |   |   |   |   |   |   |   |   |--- Age <= 24.50\n",
            "|   |   |   |   |   |   |   |   |   |   |   |--- truncated branch of depth 2\n",
            "|   |   |   |   |   |   |   |   |   |   |--- Age >  24.50\n",
            "|   |   |   |   |   |   |   |   |   |   |   |--- class: 1\n",
            "|   |   |   |   |   |   |   |   |   |--- Age >  25.50\n",
            "|   |   |   |   |   |   |   |   |   |   |--- class: 0\n",
            "|   |   |   |   |   |   |   |   |--- Stream >  2.50\n",
            "|   |   |   |   |   |   |   |   |   |--- Stream <= 3.50\n",
            "|   |   |   |   |   |   |   |   |   |   |--- class: 0\n",
            "|   |   |   |   |   |   |   |   |   |--- Stream >  3.50\n",
            "|   |   |   |   |   |   |   |   |   |   |--- Age <= 25.00\n",
            "|   |   |   |   |   |   |   |   |   |   |   |--- class: 1\n",
            "|   |   |   |   |   |   |   |   |   |   |--- Age >  25.00\n",
            "|   |   |   |   |   |   |   |   |   |   |   |--- class: 0\n",
            "|   |   |   |   |   |   |--- HistoryOfBacklogs >  0.50\n",
            "|   |   |   |   |   |   |   |--- class: 0\n",
            "|   |   |   |   |--- Hostel >  0.50\n",
            "|   |   |   |   |   |--- Gender <= 0.50\n",
            "|   |   |   |   |   |   |--- Internships <= 0.50\n",
            "|   |   |   |   |   |   |   |--- Age <= 25.50\n",
            "|   |   |   |   |   |   |   |   |--- class: 0\n",
            "|   |   |   |   |   |   |   |--- Age >  25.50\n",
            "|   |   |   |   |   |   |   |   |--- class: 0\n",
            "|   |   |   |   |   |   |--- Internships >  0.50\n",
            "|   |   |   |   |   |   |   |--- class: 1\n",
            "|   |   |   |   |   |--- Gender >  0.50\n",
            "|   |   |   |   |   |   |--- class: 0\n",
            "|   |--- Internships >  1.50\n",
            "|   |   |--- HistoryOfBacklogs <= 0.50\n",
            "|   |   |   |--- CGPA <= 6.50\n",
            "|   |   |   |   |--- CGPA <= 5.50\n",
            "|   |   |   |   |   |--- Age <= 23.00\n",
            "|   |   |   |   |   |   |--- class: 0\n",
            "|   |   |   |   |   |--- Age >  23.00\n",
            "|   |   |   |   |   |   |--- Gender <= 0.50\n",
            "|   |   |   |   |   |   |   |--- class: 0\n",
            "|   |   |   |   |   |   |--- Gender >  0.50\n",
            "|   |   |   |   |   |   |   |--- class: 1\n",
            "|   |   |   |   |--- CGPA >  5.50\n",
            "|   |   |   |   |   |--- Stream <= 0.50\n",
            "|   |   |   |   |   |   |--- Hostel <= 0.50\n",
            "|   |   |   |   |   |   |   |--- Age <= 20.50\n",
            "|   |   |   |   |   |   |   |   |--- class: 1\n",
            "|   |   |   |   |   |   |   |--- Age >  20.50\n",
            "|   |   |   |   |   |   |   |   |--- class: 0\n",
            "|   |   |   |   |   |   |--- Hostel >  0.50\n",
            "|   |   |   |   |   |   |   |--- class: 1\n",
            "|   |   |   |   |   |--- Stream >  0.50\n",
            "|   |   |   |   |   |   |--- Stream <= 4.50\n",
            "|   |   |   |   |   |   |   |--- Age <= 22.50\n",
            "|   |   |   |   |   |   |   |   |--- class: 1\n",
            "|   |   |   |   |   |   |   |--- Age >  22.50\n",
            "|   |   |   |   |   |   |   |   |--- Gender <= 0.50\n",
            "|   |   |   |   |   |   |   |   |   |--- class: 0\n",
            "|   |   |   |   |   |   |   |   |--- Gender >  0.50\n",
            "|   |   |   |   |   |   |   |   |   |--- class: 1\n",
            "|   |   |   |   |   |   |--- Stream >  4.50\n",
            "|   |   |   |   |   |   |   |--- Age <= 21.50\n",
            "|   |   |   |   |   |   |   |   |--- Internships <= 2.50\n",
            "|   |   |   |   |   |   |   |   |   |--- Age <= 20.50\n",
            "|   |   |   |   |   |   |   |   |   |   |--- class: 1\n",
            "|   |   |   |   |   |   |   |   |   |--- Age >  20.50\n",
            "|   |   |   |   |   |   |   |   |   |   |--- class: 1\n",
            "|   |   |   |   |   |   |   |   |--- Internships >  2.50\n",
            "|   |   |   |   |   |   |   |   |   |--- class: 1\n",
            "|   |   |   |   |   |   |   |--- Age >  21.50\n",
            "|   |   |   |   |   |   |   |   |--- class: 1\n",
            "|   |   |   |--- CGPA >  6.50\n",
            "|   |   |   |   |--- Age <= 21.50\n",
            "|   |   |   |   |   |--- Stream <= 0.50\n",
            "|   |   |   |   |   |   |--- Hostel <= 0.50\n",
            "|   |   |   |   |   |   |   |--- class: 0\n",
            "|   |   |   |   |   |   |--- Hostel >  0.50\n",
            "|   |   |   |   |   |   |   |--- class: 1\n",
            "|   |   |   |   |   |--- Stream >  0.50\n",
            "|   |   |   |   |   |   |--- Stream <= 1.50\n",
            "|   |   |   |   |   |   |   |--- Hostel <= 0.50\n",
            "|   |   |   |   |   |   |   |   |--- Age <= 20.50\n",
            "|   |   |   |   |   |   |   |   |   |--- class: 1\n",
            "|   |   |   |   |   |   |   |   |--- Age >  20.50\n",
            "|   |   |   |   |   |   |   |   |   |--- class: 1\n",
            "|   |   |   |   |   |   |   |--- Hostel >  0.50\n",
            "|   |   |   |   |   |   |   |   |--- class: 1\n",
            "|   |   |   |   |   |   |--- Stream >  1.50\n",
            "|   |   |   |   |   |   |   |--- class: 1\n",
            "|   |   |   |   |--- Age >  21.50\n",
            "|   |   |   |   |   |--- Age <= 23.50\n",
            "|   |   |   |   |   |   |--- Stream <= 1.50\n",
            "|   |   |   |   |   |   |   |--- Stream <= 0.50\n",
            "|   |   |   |   |   |   |   |   |--- class: 0\n",
            "|   |   |   |   |   |   |   |--- Stream >  0.50\n",
            "|   |   |   |   |   |   |   |   |--- Gender <= 0.50\n",
            "|   |   |   |   |   |   |   |   |   |--- class: 1\n",
            "|   |   |   |   |   |   |   |   |--- Gender >  0.50\n",
            "|   |   |   |   |   |   |   |   |   |--- class: 1\n",
            "|   |   |   |   |   |   |--- Stream >  1.50\n",
            "|   |   |   |   |   |   |   |--- Stream <= 3.50\n",
            "|   |   |   |   |   |   |   |   |--- class: 0\n",
            "|   |   |   |   |   |   |   |--- Stream >  3.50\n",
            "|   |   |   |   |   |   |   |   |--- Age <= 22.50\n",
            "|   |   |   |   |   |   |   |   |   |--- Hostel <= 0.50\n",
            "|   |   |   |   |   |   |   |   |   |   |--- Gender <= 0.50\n",
            "|   |   |   |   |   |   |   |   |   |   |   |--- class: 0\n",
            "|   |   |   |   |   |   |   |   |   |   |--- Gender >  0.50\n",
            "|   |   |   |   |   |   |   |   |   |   |   |--- class: 0\n",
            "|   |   |   |   |   |   |   |   |   |--- Hostel >  0.50\n",
            "|   |   |   |   |   |   |   |   |   |   |--- Gender <= 0.50\n",
            "|   |   |   |   |   |   |   |   |   |   |   |--- class: 1\n",
            "|   |   |   |   |   |   |   |   |   |   |--- Gender >  0.50\n",
            "|   |   |   |   |   |   |   |   |   |   |   |--- truncated branch of depth 2\n",
            "|   |   |   |   |   |   |   |   |--- Age >  22.50\n",
            "|   |   |   |   |   |   |   |   |   |--- class: 1\n",
            "|   |   |   |   |   |--- Age >  23.50\n",
            "|   |   |   |   |   |   |--- class: 1\n",
            "|   |   |--- HistoryOfBacklogs >  0.50\n",
            "|   |   |   |--- Age <= 23.00\n",
            "|   |   |   |   |--- CGPA <= 6.50\n",
            "|   |   |   |   |   |--- Hostel <= 0.50\n",
            "|   |   |   |   |   |   |--- class: 0\n",
            "|   |   |   |   |   |--- Hostel >  0.50\n",
            "|   |   |   |   |   |   |--- Stream <= 2.50\n",
            "|   |   |   |   |   |   |   |--- Gender <= 0.50\n",
            "|   |   |   |   |   |   |   |   |--- class: 0\n",
            "|   |   |   |   |   |   |   |--- Gender >  0.50\n",
            "|   |   |   |   |   |   |   |   |--- Internships <= 2.50\n",
            "|   |   |   |   |   |   |   |   |   |--- class: 1\n",
            "|   |   |   |   |   |   |   |   |--- Internships >  2.50\n",
            "|   |   |   |   |   |   |   |   |   |--- class: 0\n",
            "|   |   |   |   |   |   |--- Stream >  2.50\n",
            "|   |   |   |   |   |   |   |--- class: 0\n",
            "|   |   |   |   |--- CGPA >  6.50\n",
            "|   |   |   |   |   |--- Internships <= 2.50\n",
            "|   |   |   |   |   |   |--- Hostel <= 0.50\n",
            "|   |   |   |   |   |   |   |--- Age <= 20.50\n",
            "|   |   |   |   |   |   |   |   |--- class: 1\n",
            "|   |   |   |   |   |   |   |--- Age >  20.50\n",
            "|   |   |   |   |   |   |   |   |--- Stream <= 3.50\n",
            "|   |   |   |   |   |   |   |   |   |--- class: 0\n",
            "|   |   |   |   |   |   |   |   |--- Stream >  3.50\n",
            "|   |   |   |   |   |   |   |   |   |--- Age <= 21.50\n",
            "|   |   |   |   |   |   |   |   |   |   |--- class: 0\n",
            "|   |   |   |   |   |   |   |   |   |--- Age >  21.50\n",
            "|   |   |   |   |   |   |   |   |   |   |--- class: 1\n",
            "|   |   |   |   |   |   |--- Hostel >  0.50\n",
            "|   |   |   |   |   |   |   |--- Gender <= 0.50\n",
            "|   |   |   |   |   |   |   |   |--- Age <= 21.50\n",
            "|   |   |   |   |   |   |   |   |   |--- class: 0\n",
            "|   |   |   |   |   |   |   |   |--- Age >  21.50\n",
            "|   |   |   |   |   |   |   |   |   |--- class: 1\n",
            "|   |   |   |   |   |   |   |--- Gender >  0.50\n",
            "|   |   |   |   |   |   |   |   |--- class: 1\n",
            "|   |   |   |   |   |--- Internships >  2.50\n",
            "|   |   |   |   |   |   |--- class: 0\n",
            "|   |   |   |--- Age >  23.00\n",
            "|   |   |   |   |--- class: 1\n",
            "|--- CGPA >  7.50\n",
            "|   |--- class: 1\n",
            "\n"
          ]
        }
      ]
    },
    {
      "cell_type": "markdown",
      "metadata": {
        "id": "LWmvKh04AmjU"
      },
      "source": [
        "Now lets do the same thing, only changing the criteria to use the information gain criteria"
      ]
    },
    {
      "cell_type": "code",
      "metadata": {
        "colab": {
          "base_uri": "https://localhost:8080/"
        },
        "id": "ZwabbImVAxVg",
        "outputId": "92aaff2e-721c-482f-eee8-9920b8cffc6d"
      },
      "source": [
        "entropyModel = DecisionTreeClassifier(criterion=\"entropy\")   \n",
        "entropyModel.fit(X_train,y_train)"
      ],
      "execution_count": 16,
      "outputs": [
        {
          "output_type": "execute_result",
          "data": {
            "text/plain": [
              "DecisionTreeClassifier(ccp_alpha=0.0, class_weight=None, criterion='entropy',\n",
              "                       max_depth=None, max_features=None, max_leaf_nodes=None,\n",
              "                       min_impurity_decrease=0.0, min_impurity_split=None,\n",
              "                       min_samples_leaf=1, min_samples_split=2,\n",
              "                       min_weight_fraction_leaf=0.0, presort='deprecated',\n",
              "                       random_state=None, splitter='best')"
            ]
          },
          "metadata": {},
          "execution_count": 16
        }
      ]
    },
    {
      "cell_type": "code",
      "metadata": {
        "colab": {
          "base_uri": "https://localhost:8080/"
        },
        "id": "_47bqUNfA4lQ",
        "outputId": "487e11a9-d79d-4da0-c423-67215615ac1d"
      },
      "source": [
        "predict = entropyModel.predict(X_test)\n",
        "accuracy_score(y_test, predict)"
      ],
      "execution_count": 17,
      "outputs": [
        {
          "output_type": "execute_result",
          "data": {
            "text/plain": [
              "0.8787061994609164"
            ]
          },
          "metadata": {},
          "execution_count": 17
        }
      ]
    },
    {
      "cell_type": "code",
      "metadata": {
        "colab": {
          "base_uri": "https://localhost:8080/"
        },
        "id": "-TTMDPxDA-RW",
        "outputId": "ffe63892-988e-4999-d6b0-0f50bd20ede9"
      },
      "source": [
        "r = export_text(entropyModel, feature_names=feature_names)\n",
        "print(r)"
      ],
      "execution_count": 18,
      "outputs": [
        {
          "output_type": "stream",
          "name": "stdout",
          "text": [
            "|--- CGPA <= 7.50\n",
            "|   |--- Internships <= 1.50\n",
            "|   |   |--- Age <= 23.50\n",
            "|   |   |   |--- Stream <= 4.50\n",
            "|   |   |   |   |--- Stream <= 0.50\n",
            "|   |   |   |   |   |--- HistoryOfBacklogs <= 0.50\n",
            "|   |   |   |   |   |   |--- Gender <= 0.50\n",
            "|   |   |   |   |   |   |   |--- class: 0\n",
            "|   |   |   |   |   |   |--- Gender >  0.50\n",
            "|   |   |   |   |   |   |   |--- CGPA <= 5.50\n",
            "|   |   |   |   |   |   |   |   |--- class: 0\n",
            "|   |   |   |   |   |   |   |--- CGPA >  5.50\n",
            "|   |   |   |   |   |   |   |   |--- Age <= 22.50\n",
            "|   |   |   |   |   |   |   |   |   |--- CGPA <= 6.50\n",
            "|   |   |   |   |   |   |   |   |   |   |--- Internships <= 0.50\n",
            "|   |   |   |   |   |   |   |   |   |   |   |--- truncated branch of depth 4\n",
            "|   |   |   |   |   |   |   |   |   |   |--- Internships >  0.50\n",
            "|   |   |   |   |   |   |   |   |   |   |   |--- truncated branch of depth 4\n",
            "|   |   |   |   |   |   |   |   |   |--- CGPA >  6.50\n",
            "|   |   |   |   |   |   |   |   |   |   |--- Internships <= 0.50\n",
            "|   |   |   |   |   |   |   |   |   |   |   |--- truncated branch of depth 4\n",
            "|   |   |   |   |   |   |   |   |   |   |--- Internships >  0.50\n",
            "|   |   |   |   |   |   |   |   |   |   |   |--- class: 0\n",
            "|   |   |   |   |   |   |   |   |--- Age >  22.50\n",
            "|   |   |   |   |   |   |   |   |   |--- Hostel <= 0.50\n",
            "|   |   |   |   |   |   |   |   |   |   |--- class: 0\n",
            "|   |   |   |   |   |   |   |   |   |--- Hostel >  0.50\n",
            "|   |   |   |   |   |   |   |   |   |   |--- class: 1\n",
            "|   |   |   |   |   |--- HistoryOfBacklogs >  0.50\n",
            "|   |   |   |   |   |   |--- class: 0\n",
            "|   |   |   |   |--- Stream >  0.50\n",
            "|   |   |   |   |   |--- CGPA <= 6.50\n",
            "|   |   |   |   |   |   |--- Age <= 20.50\n",
            "|   |   |   |   |   |   |   |--- Internships <= 0.50\n",
            "|   |   |   |   |   |   |   |   |--- class: 0\n",
            "|   |   |   |   |   |   |   |--- Internships >  0.50\n",
            "|   |   |   |   |   |   |   |   |--- HistoryOfBacklogs <= 0.50\n",
            "|   |   |   |   |   |   |   |   |   |--- Age <= 19.50\n",
            "|   |   |   |   |   |   |   |   |   |   |--- Stream <= 1.50\n",
            "|   |   |   |   |   |   |   |   |   |   |   |--- truncated branch of depth 2\n",
            "|   |   |   |   |   |   |   |   |   |   |--- Stream >  1.50\n",
            "|   |   |   |   |   |   |   |   |   |   |   |--- class: 0\n",
            "|   |   |   |   |   |   |   |   |   |--- Age >  19.50\n",
            "|   |   |   |   |   |   |   |   |   |   |--- class: 0\n",
            "|   |   |   |   |   |   |   |   |--- HistoryOfBacklogs >  0.50\n",
            "|   |   |   |   |   |   |   |   |   |--- Stream <= 2.00\n",
            "|   |   |   |   |   |   |   |   |   |   |--- class: 1\n",
            "|   |   |   |   |   |   |   |   |   |--- Stream >  2.00\n",
            "|   |   |   |   |   |   |   |   |   |   |--- Age <= 19.50\n",
            "|   |   |   |   |   |   |   |   |   |   |   |--- class: 1\n",
            "|   |   |   |   |   |   |   |   |   |   |--- Age >  19.50\n",
            "|   |   |   |   |   |   |   |   |   |   |   |--- class: 0\n",
            "|   |   |   |   |   |   |--- Age >  20.50\n",
            "|   |   |   |   |   |   |   |--- Stream <= 3.50\n",
            "|   |   |   |   |   |   |   |   |--- Stream <= 1.50\n",
            "|   |   |   |   |   |   |   |   |   |--- Age <= 21.50\n",
            "|   |   |   |   |   |   |   |   |   |   |--- CGPA <= 5.50\n",
            "|   |   |   |   |   |   |   |   |   |   |   |--- class: 0\n",
            "|   |   |   |   |   |   |   |   |   |   |--- CGPA >  5.50\n",
            "|   |   |   |   |   |   |   |   |   |   |   |--- truncated branch of depth 5\n",
            "|   |   |   |   |   |   |   |   |   |--- Age >  21.50\n",
            "|   |   |   |   |   |   |   |   |   |   |--- HistoryOfBacklogs <= 0.50\n",
            "|   |   |   |   |   |   |   |   |   |   |   |--- truncated branch of depth 5\n",
            "|   |   |   |   |   |   |   |   |   |   |--- HistoryOfBacklogs >  0.50\n",
            "|   |   |   |   |   |   |   |   |   |   |   |--- truncated branch of depth 3\n",
            "|   |   |   |   |   |   |   |   |--- Stream >  1.50\n",
            "|   |   |   |   |   |   |   |   |   |--- CGPA <= 5.50\n",
            "|   |   |   |   |   |   |   |   |   |   |--- class: 0\n",
            "|   |   |   |   |   |   |   |   |   |--- CGPA >  5.50\n",
            "|   |   |   |   |   |   |   |   |   |   |--- Age <= 21.50\n",
            "|   |   |   |   |   |   |   |   |   |   |   |--- truncated branch of depth 6\n",
            "|   |   |   |   |   |   |   |   |   |   |--- Age >  21.50\n",
            "|   |   |   |   |   |   |   |   |   |   |   |--- truncated branch of depth 7\n",
            "|   |   |   |   |   |   |   |--- Stream >  3.50\n",
            "|   |   |   |   |   |   |   |   |--- Hostel <= 0.50\n",
            "|   |   |   |   |   |   |   |   |   |--- CGPA <= 5.50\n",
            "|   |   |   |   |   |   |   |   |   |   |--- Age <= 22.50\n",
            "|   |   |   |   |   |   |   |   |   |   |   |--- class: 0\n",
            "|   |   |   |   |   |   |   |   |   |   |--- Age >  22.50\n",
            "|   |   |   |   |   |   |   |   |   |   |   |--- truncated branch of depth 2\n",
            "|   |   |   |   |   |   |   |   |   |--- CGPA >  5.50\n",
            "|   |   |   |   |   |   |   |   |   |   |--- Age <= 22.50\n",
            "|   |   |   |   |   |   |   |   |   |   |   |--- truncated branch of depth 5\n",
            "|   |   |   |   |   |   |   |   |   |   |--- Age >  22.50\n",
            "|   |   |   |   |   |   |   |   |   |   |   |--- truncated branch of depth 3\n",
            "|   |   |   |   |   |   |   |   |--- Hostel >  0.50\n",
            "|   |   |   |   |   |   |   |   |   |--- HistoryOfBacklogs <= 0.50\n",
            "|   |   |   |   |   |   |   |   |   |   |--- class: 0\n",
            "|   |   |   |   |   |   |   |   |   |--- HistoryOfBacklogs >  0.50\n",
            "|   |   |   |   |   |   |   |   |   |   |--- CGPA <= 5.50\n",
            "|   |   |   |   |   |   |   |   |   |   |   |--- class: 0\n",
            "|   |   |   |   |   |   |   |   |   |   |--- CGPA >  5.50\n",
            "|   |   |   |   |   |   |   |   |   |   |   |--- class: 1\n",
            "|   |   |   |   |   |--- CGPA >  6.50\n",
            "|   |   |   |   |   |   |--- Internships <= 0.50\n",
            "|   |   |   |   |   |   |   |--- Stream <= 2.50\n",
            "|   |   |   |   |   |   |   |   |--- Stream <= 1.50\n",
            "|   |   |   |   |   |   |   |   |   |--- HistoryOfBacklogs <= 0.50\n",
            "|   |   |   |   |   |   |   |   |   |   |--- Gender <= 0.50\n",
            "|   |   |   |   |   |   |   |   |   |   |   |--- class: 0\n",
            "|   |   |   |   |   |   |   |   |   |   |--- Gender >  0.50\n",
            "|   |   |   |   |   |   |   |   |   |   |   |--- truncated branch of depth 5\n",
            "|   |   |   |   |   |   |   |   |   |--- HistoryOfBacklogs >  0.50\n",
            "|   |   |   |   |   |   |   |   |   |   |--- Hostel <= 0.50\n",
            "|   |   |   |   |   |   |   |   |   |   |   |--- class: 0\n",
            "|   |   |   |   |   |   |   |   |   |   |--- Hostel >  0.50\n",
            "|   |   |   |   |   |   |   |   |   |   |   |--- truncated branch of depth 3\n",
            "|   |   |   |   |   |   |   |   |--- Stream >  1.50\n",
            "|   |   |   |   |   |   |   |   |   |--- Age <= 21.50\n",
            "|   |   |   |   |   |   |   |   |   |   |--- Gender <= 0.50\n",
            "|   |   |   |   |   |   |   |   |   |   |   |--- class: 0\n",
            "|   |   |   |   |   |   |   |   |   |   |--- Gender >  0.50\n",
            "|   |   |   |   |   |   |   |   |   |   |   |--- truncated branch of depth 3\n",
            "|   |   |   |   |   |   |   |   |   |--- Age >  21.50\n",
            "|   |   |   |   |   |   |   |   |   |   |--- class: 0\n",
            "|   |   |   |   |   |   |   |--- Stream >  2.50\n",
            "|   |   |   |   |   |   |   |   |--- Age <= 21.50\n",
            "|   |   |   |   |   |   |   |   |   |--- Stream <= 3.50\n",
            "|   |   |   |   |   |   |   |   |   |   |--- HistoryOfBacklogs <= 0.50\n",
            "|   |   |   |   |   |   |   |   |   |   |   |--- truncated branch of depth 4\n",
            "|   |   |   |   |   |   |   |   |   |   |--- HistoryOfBacklogs >  0.50\n",
            "|   |   |   |   |   |   |   |   |   |   |   |--- class: 0\n",
            "|   |   |   |   |   |   |   |   |   |--- Stream >  3.50\n",
            "|   |   |   |   |   |   |   |   |   |   |--- Gender <= 0.50\n",
            "|   |   |   |   |   |   |   |   |   |   |   |--- truncated branch of depth 2\n",
            "|   |   |   |   |   |   |   |   |   |   |--- Gender >  0.50\n",
            "|   |   |   |   |   |   |   |   |   |   |   |--- truncated branch of depth 3\n",
            "|   |   |   |   |   |   |   |   |--- Age >  21.50\n",
            "|   |   |   |   |   |   |   |   |   |--- Stream <= 3.50\n",
            "|   |   |   |   |   |   |   |   |   |   |--- Age <= 22.50\n",
            "|   |   |   |   |   |   |   |   |   |   |   |--- truncated branch of depth 2\n",
            "|   |   |   |   |   |   |   |   |   |   |--- Age >  22.50\n",
            "|   |   |   |   |   |   |   |   |   |   |   |--- truncated branch of depth 2\n",
            "|   |   |   |   |   |   |   |   |   |--- Stream >  3.50\n",
            "|   |   |   |   |   |   |   |   |   |   |--- Age <= 22.50\n",
            "|   |   |   |   |   |   |   |   |   |   |   |--- truncated branch of depth 3\n",
            "|   |   |   |   |   |   |   |   |   |   |--- Age >  22.50\n",
            "|   |   |   |   |   |   |   |   |   |   |   |--- truncated branch of depth 2\n",
            "|   |   |   |   |   |   |--- Internships >  0.50\n",
            "|   |   |   |   |   |   |   |--- HistoryOfBacklogs <= 0.50\n",
            "|   |   |   |   |   |   |   |   |--- Age <= 22.50\n",
            "|   |   |   |   |   |   |   |   |   |--- Age <= 20.50\n",
            "|   |   |   |   |   |   |   |   |   |   |--- Stream <= 1.50\n",
            "|   |   |   |   |   |   |   |   |   |   |   |--- truncated branch of depth 3\n",
            "|   |   |   |   |   |   |   |   |   |   |--- Stream >  1.50\n",
            "|   |   |   |   |   |   |   |   |   |   |   |--- truncated branch of depth 5\n",
            "|   |   |   |   |   |   |   |   |   |--- Age >  20.50\n",
            "|   |   |   |   |   |   |   |   |   |   |--- Hostel <= 0.50\n",
            "|   |   |   |   |   |   |   |   |   |   |   |--- truncated branch of depth 5\n",
            "|   |   |   |   |   |   |   |   |   |   |--- Hostel >  0.50\n",
            "|   |   |   |   |   |   |   |   |   |   |   |--- truncated branch of depth 5\n",
            "|   |   |   |   |   |   |   |   |--- Age >  22.50\n",
            "|   |   |   |   |   |   |   |   |   |--- Hostel <= 0.50\n",
            "|   |   |   |   |   |   |   |   |   |   |--- Stream <= 1.50\n",
            "|   |   |   |   |   |   |   |   |   |   |   |--- class: 0\n",
            "|   |   |   |   |   |   |   |   |   |   |--- Stream >  1.50\n",
            "|   |   |   |   |   |   |   |   |   |   |   |--- truncated branch of depth 3\n",
            "|   |   |   |   |   |   |   |   |   |--- Hostel >  0.50\n",
            "|   |   |   |   |   |   |   |   |   |   |--- class: 1\n",
            "|   |   |   |   |   |   |   |--- HistoryOfBacklogs >  0.50\n",
            "|   |   |   |   |   |   |   |   |--- Age <= 21.50\n",
            "|   |   |   |   |   |   |   |   |   |--- Stream <= 3.50\n",
            "|   |   |   |   |   |   |   |   |   |   |--- Stream <= 2.50\n",
            "|   |   |   |   |   |   |   |   |   |   |   |--- truncated branch of depth 3\n",
            "|   |   |   |   |   |   |   |   |   |   |--- Stream >  2.50\n",
            "|   |   |   |   |   |   |   |   |   |   |   |--- truncated branch of depth 3\n",
            "|   |   |   |   |   |   |   |   |   |--- Stream >  3.50\n",
            "|   |   |   |   |   |   |   |   |   |   |--- Gender <= 0.50\n",
            "|   |   |   |   |   |   |   |   |   |   |   |--- truncated branch of depth 2\n",
            "|   |   |   |   |   |   |   |   |   |   |--- Gender >  0.50\n",
            "|   |   |   |   |   |   |   |   |   |   |   |--- class: 0\n",
            "|   |   |   |   |   |   |   |   |--- Age >  21.50\n",
            "|   |   |   |   |   |   |   |   |   |--- Stream <= 2.50\n",
            "|   |   |   |   |   |   |   |   |   |   |--- class: 0\n",
            "|   |   |   |   |   |   |   |   |   |--- Stream >  2.50\n",
            "|   |   |   |   |   |   |   |   |   |   |--- Age <= 22.50\n",
            "|   |   |   |   |   |   |   |   |   |   |   |--- truncated branch of depth 4\n",
            "|   |   |   |   |   |   |   |   |   |   |--- Age >  22.50\n",
            "|   |   |   |   |   |   |   |   |   |   |   |--- class: 1\n",
            "|   |   |   |--- Stream >  4.50\n",
            "|   |   |   |   |--- Internships <= 0.50\n",
            "|   |   |   |   |   |--- CGPA <= 5.50\n",
            "|   |   |   |   |   |   |--- class: 0\n",
            "|   |   |   |   |   |--- CGPA >  5.50\n",
            "|   |   |   |   |   |   |--- HistoryOfBacklogs <= 0.50\n",
            "|   |   |   |   |   |   |   |--- CGPA <= 6.50\n",
            "|   |   |   |   |   |   |   |   |--- Hostel <= 0.50\n",
            "|   |   |   |   |   |   |   |   |   |--- class: 1\n",
            "|   |   |   |   |   |   |   |   |--- Hostel >  0.50\n",
            "|   |   |   |   |   |   |   |   |   |--- Age <= 20.50\n",
            "|   |   |   |   |   |   |   |   |   |   |--- class: 0\n",
            "|   |   |   |   |   |   |   |   |   |--- Age >  20.50\n",
            "|   |   |   |   |   |   |   |   |   |   |--- Age <= 21.50\n",
            "|   |   |   |   |   |   |   |   |   |   |   |--- class: 0\n",
            "|   |   |   |   |   |   |   |   |   |   |--- Age >  21.50\n",
            "|   |   |   |   |   |   |   |   |   |   |   |--- truncated branch of depth 2\n",
            "|   |   |   |   |   |   |   |--- CGPA >  6.50\n",
            "|   |   |   |   |   |   |   |   |--- Age <= 20.50\n",
            "|   |   |   |   |   |   |   |   |   |--- class: 0\n",
            "|   |   |   |   |   |   |   |   |--- Age >  20.50\n",
            "|   |   |   |   |   |   |   |   |   |--- Hostel <= 0.50\n",
            "|   |   |   |   |   |   |   |   |   |   |--- class: 0\n",
            "|   |   |   |   |   |   |   |   |   |--- Hostel >  0.50\n",
            "|   |   |   |   |   |   |   |   |   |   |--- Age <= 22.50\n",
            "|   |   |   |   |   |   |   |   |   |   |   |--- truncated branch of depth 2\n",
            "|   |   |   |   |   |   |   |   |   |   |--- Age >  22.50\n",
            "|   |   |   |   |   |   |   |   |   |   |   |--- class: 0\n",
            "|   |   |   |   |   |   |--- HistoryOfBacklogs >  0.50\n",
            "|   |   |   |   |   |   |   |--- Age <= 19.50\n",
            "|   |   |   |   |   |   |   |   |--- class: 0\n",
            "|   |   |   |   |   |   |   |--- Age >  19.50\n",
            "|   |   |   |   |   |   |   |   |--- Hostel <= 0.50\n",
            "|   |   |   |   |   |   |   |   |   |--- CGPA <= 6.50\n",
            "|   |   |   |   |   |   |   |   |   |   |--- class: 0\n",
            "|   |   |   |   |   |   |   |   |   |--- CGPA >  6.50\n",
            "|   |   |   |   |   |   |   |   |   |   |--- class: 1\n",
            "|   |   |   |   |   |   |   |   |--- Hostel >  0.50\n",
            "|   |   |   |   |   |   |   |   |   |--- Age <= 20.50\n",
            "|   |   |   |   |   |   |   |   |   |   |--- CGPA <= 6.50\n",
            "|   |   |   |   |   |   |   |   |   |   |   |--- class: 0\n",
            "|   |   |   |   |   |   |   |   |   |   |--- CGPA >  6.50\n",
            "|   |   |   |   |   |   |   |   |   |   |   |--- class: 1\n",
            "|   |   |   |   |   |   |   |   |   |--- Age >  20.50\n",
            "|   |   |   |   |   |   |   |   |   |   |--- CGPA <= 6.50\n",
            "|   |   |   |   |   |   |   |   |   |   |   |--- truncated branch of depth 2\n",
            "|   |   |   |   |   |   |   |   |   |   |--- CGPA >  6.50\n",
            "|   |   |   |   |   |   |   |   |   |   |   |--- class: 0\n",
            "|   |   |   |   |--- Internships >  0.50\n",
            "|   |   |   |   |   |--- Age <= 22.50\n",
            "|   |   |   |   |   |   |--- class: 0\n",
            "|   |   |   |   |   |--- Age >  22.50\n",
            "|   |   |   |   |   |   |--- HistoryOfBacklogs <= 0.50\n",
            "|   |   |   |   |   |   |   |--- class: 0\n",
            "|   |   |   |   |   |   |--- HistoryOfBacklogs >  0.50\n",
            "|   |   |   |   |   |   |   |--- class: 1\n",
            "|   |   |--- Age >  23.50\n",
            "|   |   |   |--- CGPA <= 6.50\n",
            "|   |   |   |   |--- CGPA <= 5.50\n",
            "|   |   |   |   |   |--- Stream <= 3.50\n",
            "|   |   |   |   |   |   |--- class: 0\n",
            "|   |   |   |   |   |--- Stream >  3.50\n",
            "|   |   |   |   |   |   |--- Gender <= 0.50\n",
            "|   |   |   |   |   |   |   |--- class: 0\n",
            "|   |   |   |   |   |   |--- Gender >  0.50\n",
            "|   |   |   |   |   |   |   |--- Internships <= 0.50\n",
            "|   |   |   |   |   |   |   |   |--- class: 1\n",
            "|   |   |   |   |   |   |   |--- Internships >  0.50\n",
            "|   |   |   |   |   |   |   |   |--- class: 0\n",
            "|   |   |   |   |--- CGPA >  5.50\n",
            "|   |   |   |   |   |--- class: 1\n",
            "|   |   |   |--- CGPA >  6.50\n",
            "|   |   |   |   |--- HistoryOfBacklogs <= 0.50\n",
            "|   |   |   |   |   |--- Internships <= 0.50\n",
            "|   |   |   |   |   |   |--- Stream <= 4.50\n",
            "|   |   |   |   |   |   |   |--- Stream <= 3.50\n",
            "|   |   |   |   |   |   |   |   |--- Stream <= 1.50\n",
            "|   |   |   |   |   |   |   |   |   |--- Age <= 24.50\n",
            "|   |   |   |   |   |   |   |   |   |   |--- class: 0\n",
            "|   |   |   |   |   |   |   |   |   |--- Age >  24.50\n",
            "|   |   |   |   |   |   |   |   |   |   |--- Age <= 25.50\n",
            "|   |   |   |   |   |   |   |   |   |   |   |--- class: 0\n",
            "|   |   |   |   |   |   |   |   |   |   |--- Age >  25.50\n",
            "|   |   |   |   |   |   |   |   |   |   |   |--- truncated branch of depth 2\n",
            "|   |   |   |   |   |   |   |   |--- Stream >  1.50\n",
            "|   |   |   |   |   |   |   |   |   |--- class: 0\n",
            "|   |   |   |   |   |   |   |--- Stream >  3.50\n",
            "|   |   |   |   |   |   |   |   |--- Age <= 24.50\n",
            "|   |   |   |   |   |   |   |   |   |--- class: 0\n",
            "|   |   |   |   |   |   |   |   |--- Age >  24.50\n",
            "|   |   |   |   |   |   |   |   |   |--- Gender <= 0.50\n",
            "|   |   |   |   |   |   |   |   |   |   |--- class: 0\n",
            "|   |   |   |   |   |   |   |   |   |--- Gender >  0.50\n",
            "|   |   |   |   |   |   |   |   |   |   |--- class: 1\n",
            "|   |   |   |   |   |   |--- Stream >  4.50\n",
            "|   |   |   |   |   |   |   |--- class: 0\n",
            "|   |   |   |   |   |--- Internships >  0.50\n",
            "|   |   |   |   |   |   |--- Stream <= 0.50\n",
            "|   |   |   |   |   |   |   |--- class: 0\n",
            "|   |   |   |   |   |   |--- Stream >  0.50\n",
            "|   |   |   |   |   |   |   |--- Stream <= 2.50\n",
            "|   |   |   |   |   |   |   |   |--- Stream <= 1.50\n",
            "|   |   |   |   |   |   |   |   |   |--- Hostel <= 0.50\n",
            "|   |   |   |   |   |   |   |   |   |   |--- Gender <= 0.50\n",
            "|   |   |   |   |   |   |   |   |   |   |   |--- class: 0\n",
            "|   |   |   |   |   |   |   |   |   |   |--- Gender >  0.50\n",
            "|   |   |   |   |   |   |   |   |   |   |   |--- truncated branch of depth 3\n",
            "|   |   |   |   |   |   |   |   |   |--- Hostel >  0.50\n",
            "|   |   |   |   |   |   |   |   |   |   |--- class: 1\n",
            "|   |   |   |   |   |   |   |   |--- Stream >  1.50\n",
            "|   |   |   |   |   |   |   |   |   |--- class: 1\n",
            "|   |   |   |   |   |   |   |--- Stream >  2.50\n",
            "|   |   |   |   |   |   |   |   |--- Stream <= 3.50\n",
            "|   |   |   |   |   |   |   |   |   |--- class: 0\n",
            "|   |   |   |   |   |   |   |   |--- Stream >  3.50\n",
            "|   |   |   |   |   |   |   |   |   |--- Hostel <= 0.50\n",
            "|   |   |   |   |   |   |   |   |   |   |--- Stream <= 4.50\n",
            "|   |   |   |   |   |   |   |   |   |   |   |--- truncated branch of depth 3\n",
            "|   |   |   |   |   |   |   |   |   |   |--- Stream >  4.50\n",
            "|   |   |   |   |   |   |   |   |   |   |   |--- class: 1\n",
            "|   |   |   |   |   |   |   |   |   |--- Hostel >  0.50\n",
            "|   |   |   |   |   |   |   |   |   |   |--- class: 0\n",
            "|   |   |   |   |--- HistoryOfBacklogs >  0.50\n",
            "|   |   |   |   |   |--- class: 0\n",
            "|   |--- Internships >  1.50\n",
            "|   |   |--- HistoryOfBacklogs <= 0.50\n",
            "|   |   |   |--- CGPA <= 6.50\n",
            "|   |   |   |   |--- CGPA <= 5.50\n",
            "|   |   |   |   |   |--- Age <= 23.00\n",
            "|   |   |   |   |   |   |--- class: 0\n",
            "|   |   |   |   |   |--- Age >  23.00\n",
            "|   |   |   |   |   |   |--- Gender <= 0.50\n",
            "|   |   |   |   |   |   |   |--- class: 0\n",
            "|   |   |   |   |   |   |--- Gender >  0.50\n",
            "|   |   |   |   |   |   |   |--- class: 1\n",
            "|   |   |   |   |--- CGPA >  5.50\n",
            "|   |   |   |   |   |--- Stream <= 0.50\n",
            "|   |   |   |   |   |   |--- Hostel <= 0.50\n",
            "|   |   |   |   |   |   |   |--- Age <= 20.50\n",
            "|   |   |   |   |   |   |   |   |--- class: 1\n",
            "|   |   |   |   |   |   |   |--- Age >  20.50\n",
            "|   |   |   |   |   |   |   |   |--- class: 0\n",
            "|   |   |   |   |   |   |--- Hostel >  0.50\n",
            "|   |   |   |   |   |   |   |--- class: 1\n",
            "|   |   |   |   |   |--- Stream >  0.50\n",
            "|   |   |   |   |   |   |--- Stream <= 2.50\n",
            "|   |   |   |   |   |   |   |--- class: 1\n",
            "|   |   |   |   |   |   |--- Stream >  2.50\n",
            "|   |   |   |   |   |   |   |--- Age <= 22.50\n",
            "|   |   |   |   |   |   |   |   |--- Stream <= 4.50\n",
            "|   |   |   |   |   |   |   |   |   |--- class: 1\n",
            "|   |   |   |   |   |   |   |   |--- Stream >  4.50\n",
            "|   |   |   |   |   |   |   |   |   |--- Age <= 21.50\n",
            "|   |   |   |   |   |   |   |   |   |   |--- Age <= 20.50\n",
            "|   |   |   |   |   |   |   |   |   |   |   |--- class: 1\n",
            "|   |   |   |   |   |   |   |   |   |   |--- Age >  20.50\n",
            "|   |   |   |   |   |   |   |   |   |   |   |--- truncated branch of depth 2\n",
            "|   |   |   |   |   |   |   |   |   |--- Age >  21.50\n",
            "|   |   |   |   |   |   |   |   |   |   |--- class: 1\n",
            "|   |   |   |   |   |   |   |--- Age >  22.50\n",
            "|   |   |   |   |   |   |   |   |--- Gender <= 0.50\n",
            "|   |   |   |   |   |   |   |   |   |--- class: 0\n",
            "|   |   |   |   |   |   |   |   |--- Gender >  0.50\n",
            "|   |   |   |   |   |   |   |   |   |--- class: 1\n",
            "|   |   |   |--- CGPA >  6.50\n",
            "|   |   |   |   |--- Age <= 21.50\n",
            "|   |   |   |   |   |--- Stream <= 1.50\n",
            "|   |   |   |   |   |   |--- Stream <= 0.50\n",
            "|   |   |   |   |   |   |   |--- Hostel <= 0.50\n",
            "|   |   |   |   |   |   |   |   |--- class: 0\n",
            "|   |   |   |   |   |   |   |--- Hostel >  0.50\n",
            "|   |   |   |   |   |   |   |   |--- class: 1\n",
            "|   |   |   |   |   |   |--- Stream >  0.50\n",
            "|   |   |   |   |   |   |   |--- Hostel <= 0.50\n",
            "|   |   |   |   |   |   |   |   |--- Age <= 20.50\n",
            "|   |   |   |   |   |   |   |   |   |--- class: 1\n",
            "|   |   |   |   |   |   |   |   |--- Age >  20.50\n",
            "|   |   |   |   |   |   |   |   |   |--- class: 1\n",
            "|   |   |   |   |   |   |   |--- Hostel >  0.50\n",
            "|   |   |   |   |   |   |   |   |--- class: 1\n",
            "|   |   |   |   |   |--- Stream >  1.50\n",
            "|   |   |   |   |   |   |--- class: 1\n",
            "|   |   |   |   |--- Age >  21.50\n",
            "|   |   |   |   |   |--- Age <= 23.50\n",
            "|   |   |   |   |   |   |--- Stream <= 1.50\n",
            "|   |   |   |   |   |   |   |--- Stream <= 0.50\n",
            "|   |   |   |   |   |   |   |   |--- class: 0\n",
            "|   |   |   |   |   |   |   |--- Stream >  0.50\n",
            "|   |   |   |   |   |   |   |   |--- Gender <= 0.50\n",
            "|   |   |   |   |   |   |   |   |   |--- class: 1\n",
            "|   |   |   |   |   |   |   |   |--- Gender >  0.50\n",
            "|   |   |   |   |   |   |   |   |   |--- class: 1\n",
            "|   |   |   |   |   |   |--- Stream >  1.50\n",
            "|   |   |   |   |   |   |   |--- Stream <= 3.50\n",
            "|   |   |   |   |   |   |   |   |--- class: 0\n",
            "|   |   |   |   |   |   |   |--- Stream >  3.50\n",
            "|   |   |   |   |   |   |   |   |--- Age <= 22.50\n",
            "|   |   |   |   |   |   |   |   |   |--- Hostel <= 0.50\n",
            "|   |   |   |   |   |   |   |   |   |   |--- Gender <= 0.50\n",
            "|   |   |   |   |   |   |   |   |   |   |   |--- class: 0\n",
            "|   |   |   |   |   |   |   |   |   |   |--- Gender >  0.50\n",
            "|   |   |   |   |   |   |   |   |   |   |   |--- class: 0\n",
            "|   |   |   |   |   |   |   |   |   |--- Hostel >  0.50\n",
            "|   |   |   |   |   |   |   |   |   |   |--- Gender <= 0.50\n",
            "|   |   |   |   |   |   |   |   |   |   |   |--- class: 1\n",
            "|   |   |   |   |   |   |   |   |   |   |--- Gender >  0.50\n",
            "|   |   |   |   |   |   |   |   |   |   |   |--- truncated branch of depth 2\n",
            "|   |   |   |   |   |   |   |   |--- Age >  22.50\n",
            "|   |   |   |   |   |   |   |   |   |--- class: 1\n",
            "|   |   |   |   |   |--- Age >  23.50\n",
            "|   |   |   |   |   |   |--- class: 1\n",
            "|   |   |--- HistoryOfBacklogs >  0.50\n",
            "|   |   |   |--- Age <= 23.00\n",
            "|   |   |   |   |--- Internships <= 2.50\n",
            "|   |   |   |   |   |--- CGPA <= 6.50\n",
            "|   |   |   |   |   |   |--- Hostel <= 0.50\n",
            "|   |   |   |   |   |   |   |--- class: 0\n",
            "|   |   |   |   |   |   |--- Hostel >  0.50\n",
            "|   |   |   |   |   |   |   |--- Stream <= 1.50\n",
            "|   |   |   |   |   |   |   |   |--- class: 0\n",
            "|   |   |   |   |   |   |   |--- Stream >  1.50\n",
            "|   |   |   |   |   |   |   |   |--- Stream <= 2.50\n",
            "|   |   |   |   |   |   |   |   |   |--- class: 1\n",
            "|   |   |   |   |   |   |   |   |--- Stream >  2.50\n",
            "|   |   |   |   |   |   |   |   |   |--- class: 0\n",
            "|   |   |   |   |   |--- CGPA >  6.50\n",
            "|   |   |   |   |   |   |--- Hostel <= 0.50\n",
            "|   |   |   |   |   |   |   |--- Age <= 20.50\n",
            "|   |   |   |   |   |   |   |   |--- class: 1\n",
            "|   |   |   |   |   |   |   |--- Age >  20.50\n",
            "|   |   |   |   |   |   |   |   |--- Stream <= 3.50\n",
            "|   |   |   |   |   |   |   |   |   |--- class: 0\n",
            "|   |   |   |   |   |   |   |   |--- Stream >  3.50\n",
            "|   |   |   |   |   |   |   |   |   |--- Age <= 21.50\n",
            "|   |   |   |   |   |   |   |   |   |   |--- class: 0\n",
            "|   |   |   |   |   |   |   |   |   |--- Age >  21.50\n",
            "|   |   |   |   |   |   |   |   |   |   |--- class: 1\n",
            "|   |   |   |   |   |   |--- Hostel >  0.50\n",
            "|   |   |   |   |   |   |   |--- Stream <= 1.50\n",
            "|   |   |   |   |   |   |   |   |--- Age <= 21.50\n",
            "|   |   |   |   |   |   |   |   |   |--- class: 0\n",
            "|   |   |   |   |   |   |   |   |--- Age >  21.50\n",
            "|   |   |   |   |   |   |   |   |   |--- class: 1\n",
            "|   |   |   |   |   |   |   |--- Stream >  1.50\n",
            "|   |   |   |   |   |   |   |   |--- class: 1\n",
            "|   |   |   |   |--- Internships >  2.50\n",
            "|   |   |   |   |   |--- class: 0\n",
            "|   |   |   |--- Age >  23.00\n",
            "|   |   |   |   |--- class: 1\n",
            "|--- CGPA >  7.50\n",
            "|   |--- class: 1\n",
            "\n"
          ]
        }
      ]
    },
    {
      "cell_type": "markdown",
      "metadata": {
        "id": "9-O5JKzODGRs"
      },
      "source": [
        "Lastly, lets try changing the max depth and minimum sample split for each respective criterion."
      ]
    },
    {
      "cell_type": "code",
      "metadata": {
        "colab": {
          "base_uri": "https://localhost:8080/"
        },
        "id": "Sq2xGMnfDikZ",
        "outputId": "32424c2f-9115-471a-b41b-890c461f7fae"
      },
      "source": [
        "giniModelModified = DecisionTreeClassifier(criterion=\"gini\", max_depth=4, min_samples_split=5)   \n",
        "giniModelModified.fit(X_train,y_train)"
      ],
      "execution_count": 19,
      "outputs": [
        {
          "output_type": "execute_result",
          "data": {
            "text/plain": [
              "DecisionTreeClassifier(ccp_alpha=0.0, class_weight=None, criterion='gini',\n",
              "                       max_depth=4, max_features=None, max_leaf_nodes=None,\n",
              "                       min_impurity_decrease=0.0, min_impurity_split=None,\n",
              "                       min_samples_leaf=1, min_samples_split=5,\n",
              "                       min_weight_fraction_leaf=0.0, presort='deprecated',\n",
              "                       random_state=None, splitter='best')"
            ]
          },
          "metadata": {},
          "execution_count": 19
        }
      ]
    },
    {
      "cell_type": "code",
      "metadata": {
        "colab": {
          "base_uri": "https://localhost:8080/"
        },
        "id": "XPS32vM5Dz-X",
        "outputId": "85038fdf-15ee-481a-9e7c-77fea2b55658"
      },
      "source": [
        "predict = giniModelModified.predict(X_test)\n",
        "accuracy_score(y_test, predict)"
      ],
      "execution_count": 20,
      "outputs": [
        {
          "output_type": "execute_result",
          "data": {
            "text/plain": [
              "0.8692722371967655"
            ]
          },
          "metadata": {},
          "execution_count": 20
        }
      ]
    },
    {
      "cell_type": "code",
      "metadata": {
        "colab": {
          "base_uri": "https://localhost:8080/"
        },
        "id": "C6YZNme-D4K7",
        "outputId": "2195e9cb-8025-4a67-a1cc-288e3425460a"
      },
      "source": [
        "r = export_text(giniModelModified, feature_names=feature_names)\n",
        "print(r)"
      ],
      "execution_count": 21,
      "outputs": [
        {
          "output_type": "stream",
          "name": "stdout",
          "text": [
            "|--- CGPA <= 7.50\n",
            "|   |--- Internships <= 1.50\n",
            "|   |   |--- Age <= 23.50\n",
            "|   |   |   |--- Stream <= 4.50\n",
            "|   |   |   |   |--- class: 0\n",
            "|   |   |   |--- Stream >  4.50\n",
            "|   |   |   |   |--- class: 0\n",
            "|   |   |--- Age >  23.50\n",
            "|   |   |   |--- CGPA <= 6.50\n",
            "|   |   |   |   |--- class: 1\n",
            "|   |   |   |--- CGPA >  6.50\n",
            "|   |   |   |   |--- class: 0\n",
            "|   |--- Internships >  1.50\n",
            "|   |   |--- HistoryOfBacklogs <= 0.50\n",
            "|   |   |   |--- CGPA <= 6.50\n",
            "|   |   |   |   |--- class: 1\n",
            "|   |   |   |--- CGPA >  6.50\n",
            "|   |   |   |   |--- class: 1\n",
            "|   |   |--- HistoryOfBacklogs >  0.50\n",
            "|   |   |   |--- Age <= 23.00\n",
            "|   |   |   |   |--- class: 0\n",
            "|   |   |   |--- Age >  23.00\n",
            "|   |   |   |   |--- class: 1\n",
            "|--- CGPA >  7.50\n",
            "|   |--- class: 1\n",
            "\n"
          ]
        }
      ]
    },
    {
      "cell_type": "code",
      "metadata": {
        "colab": {
          "base_uri": "https://localhost:8080/"
        },
        "id": "Vn0h2iIjEEkb",
        "outputId": "1b4ec947-3050-43ec-af3b-9dd332d1e293"
      },
      "source": [
        "entropyModelModified = DecisionTreeClassifier(criterion=\"entropy\", max_depth=4, min_samples_split=5)   \n",
        "entropyModelModified.fit(X_train,y_train)"
      ],
      "execution_count": 22,
      "outputs": [
        {
          "output_type": "execute_result",
          "data": {
            "text/plain": [
              "DecisionTreeClassifier(ccp_alpha=0.0, class_weight=None, criterion='entropy',\n",
              "                       max_depth=4, max_features=None, max_leaf_nodes=None,\n",
              "                       min_impurity_decrease=0.0, min_impurity_split=None,\n",
              "                       min_samples_leaf=1, min_samples_split=5,\n",
              "                       min_weight_fraction_leaf=0.0, presort='deprecated',\n",
              "                       random_state=None, splitter='best')"
            ]
          },
          "metadata": {},
          "execution_count": 22
        }
      ]
    },
    {
      "cell_type": "code",
      "metadata": {
        "colab": {
          "base_uri": "https://localhost:8080/"
        },
        "id": "-9HShbgoFRQ6",
        "outputId": "62d5fd9f-bde3-47a2-9947-f768cda17798"
      },
      "source": [
        "predict = entropyModelModified.predict(X_test)\n",
        "accuracy_score(y_test, predict)"
      ],
      "execution_count": 23,
      "outputs": [
        {
          "output_type": "execute_result",
          "data": {
            "text/plain": [
              "0.8692722371967655"
            ]
          },
          "metadata": {},
          "execution_count": 23
        }
      ]
    },
    {
      "cell_type": "code",
      "metadata": {
        "colab": {
          "base_uri": "https://localhost:8080/"
        },
        "id": "UwCmdj27FTyT",
        "outputId": "bc7c715f-156b-4d48-cd3e-2474f314b2ba"
      },
      "source": [
        "r = export_text(entropyModelModified, feature_names=feature_names)\n",
        "print(r)"
      ],
      "execution_count": 24,
      "outputs": [
        {
          "output_type": "stream",
          "name": "stdout",
          "text": [
            "|--- CGPA <= 7.50\n",
            "|   |--- Internships <= 1.50\n",
            "|   |   |--- Age <= 23.50\n",
            "|   |   |   |--- Stream <= 4.50\n",
            "|   |   |   |   |--- class: 0\n",
            "|   |   |   |--- Stream >  4.50\n",
            "|   |   |   |   |--- class: 0\n",
            "|   |   |--- Age >  23.50\n",
            "|   |   |   |--- CGPA <= 6.50\n",
            "|   |   |   |   |--- class: 1\n",
            "|   |   |   |--- CGPA >  6.50\n",
            "|   |   |   |   |--- class: 0\n",
            "|   |--- Internships >  1.50\n",
            "|   |   |--- HistoryOfBacklogs <= 0.50\n",
            "|   |   |   |--- CGPA <= 6.50\n",
            "|   |   |   |   |--- class: 1\n",
            "|   |   |   |--- CGPA >  6.50\n",
            "|   |   |   |   |--- class: 1\n",
            "|   |   |--- HistoryOfBacklogs >  0.50\n",
            "|   |   |   |--- Age <= 23.00\n",
            "|   |   |   |   |--- class: 0\n",
            "|   |   |   |--- Age >  23.00\n",
            "|   |   |   |   |--- class: 1\n",
            "|--- CGPA >  7.50\n",
            "|   |--- class: 1\n",
            "\n"
          ]
        }
      ]
    },
    {
      "cell_type": "markdown",
      "metadata": {
        "id": "vWOUEbT9FjB9"
      },
      "source": [
        "What the above results show us is that the decision trees seem to be extremly prone to overfitting when we dont properly restrict the maximum depth. It was clear that reducing the maximum depth better generalized the results and caused the accuracy to increase. All of the other factors made no difference when compared to this. I think these results also tell us something about the data that I selected for this. Because there aren't many data points and because in these examples some factors are way more important than others (compare the importance of GPA to age for admissions) the decision tree doesnt actually need to be super deep. This is because GPA is inherently far more important than the age or gender of an applicant. This obviously makes restricting the depth of the decision tree advatageous. When comparing the structures of the two descision tree algorithms we see that the base of the tree is very similar and the differences only start to appear as we progress further into the tree strucutre. The accuracy of the two models isn't extremely different, but we see that the gini classifier performed slightly better in terms of accuracy."
      ]
    },
    {
      "cell_type": "markdown",
      "metadata": {
        "id": "q4TN7N69QP6m"
      },
      "source": [
        "# Task 2"
      ]
    },
    {
      "cell_type": "markdown",
      "metadata": {
        "id": "28J_hrC6QSM_"
      },
      "source": [
        "Now time to create both the bagging and boosting algorithms, then testing their accuracy using the k-fold cross validation method. Starting with the bagging model as shown below:"
      ]
    },
    {
      "cell_type": "code",
      "metadata": {
        "colab": {
          "base_uri": "https://localhost:8080/"
        },
        "id": "fjAmZF5tQY2k",
        "outputId": "78112341-3213-454e-a2f0-c55af82128a3"
      },
      "source": [
        "import numpy as np\n",
        "from sklearn.model_selection import cross_val_score\n",
        "from sklearn.model_selection import RepeatedStratifiedKFold\n",
        "from sklearn.ensemble import BaggingClassifier\n",
        "\n",
        "baggingModel = BaggingClassifier(n_estimators=25)\n",
        "cv = RepeatedStratifiedKFold(n_splits=10, n_repeats=3, random_state=42)\n",
        "n_scores = cross_val_score(baggingModel, X_train, y_train, scoring='accuracy', cv=cv, n_jobs=-1, error_score='raise')\n",
        "print(\"The accuracy is: %.3f with a standard deviation of: %.3f\" % (np.mean(n_scores), np.std(n_scores)))\n",
        "baggingModel.fit(X_train, y_train)"
      ],
      "execution_count": 52,
      "outputs": [
        {
          "output_type": "stream",
          "name": "stdout",
          "text": [
            "The accuracy is: 0.872 with a standard deviation of: 0.022\n"
          ]
        },
        {
          "output_type": "execute_result",
          "data": {
            "text/plain": [
              "BaggingClassifier(base_estimator=None, bootstrap=True, bootstrap_features=False,\n",
              "                  max_features=1.0, max_samples=1.0, n_estimators=25,\n",
              "                  n_jobs=None, oob_score=False, random_state=None, verbose=0,\n",
              "                  warm_start=False)"
            ]
          },
          "metadata": {},
          "execution_count": 52
        }
      ]
    },
    {
      "cell_type": "markdown",
      "metadata": {
        "id": "dOEkboZFSme9"
      },
      "source": [
        "Next up is the boosting method, and more specifically we are going to use the AdaBoost algorithm."
      ]
    },
    {
      "cell_type": "code",
      "metadata": {
        "colab": {
          "base_uri": "https://localhost:8080/"
        },
        "id": "m_cxLbz7SyqH",
        "outputId": "2e88a76a-eda8-4475-e07a-72e457e88895"
      },
      "source": [
        "from sklearn.ensemble import AdaBoostClassifier\n",
        "adaClassifier = AdaBoostClassifier(n_estimators=5, random_state=42, algorithm='SAMME')\n",
        "cv = RepeatedStratifiedKFold(n_splits=10, n_repeats=3, random_state=43)\n",
        "n_scores = cross_val_score(baggingModel, X_train, y_train, scoring='accuracy', cv=cv, n_jobs=-1, error_score='raise')\n",
        "print(\"The accuracy is: %.3f with a standard deviation of: %.3f\" % (np.mean(n_scores), np.std(n_scores)))\n",
        "adaClassifier.fit(X_train, y_train)"
      ],
      "execution_count": 53,
      "outputs": [
        {
          "output_type": "stream",
          "name": "stdout",
          "text": [
            "The accuracy is: 0.871 with a standard deviation of: 0.022\n"
          ]
        },
        {
          "output_type": "execute_result",
          "data": {
            "text/plain": [
              "AdaBoostClassifier(algorithm='SAMME', base_estimator=None, learning_rate=1.0,\n",
              "                   n_estimators=5, random_state=42)"
            ]
          },
          "metadata": {},
          "execution_count": 53
        }
      ]
    },
    {
      "cell_type": "markdown",
      "metadata": {
        "id": "m3I2Et_DTwUD"
      },
      "source": [
        "Overall, the two different methods seem very similar to each other, and garner pretty similar results. The main difference is that the AdaBoost model, while having lower accuracy, also had a lower standard deviation when compared to the bagging model. This might indicate that even though its accuracy is slightly worse, it might be a more generalized model, and therefore may perform better when given real world examples. This also all might come down to the the inherent randomness, but these results seem to be consistent across runs of the model."
      ]
    },
    {
      "cell_type": "markdown",
      "metadata": {
        "id": "4GHICknHUzOk"
      },
      "source": [
        "# Task 3"
      ]
    },
    {
      "cell_type": "markdown",
      "metadata": {
        "id": "WKCS-SITU1qD"
      },
      "source": [
        "Lastly, we are going to compare the accuracy of all three of the above model's to one another. "
      ]
    },
    {
      "cell_type": "markdown",
      "metadata": {
        "id": "j_SmaXHubzPU"
      },
      "source": [
        "First off, in order to determine what model was the most effective we need to discuss the metric that we are going to use in order to determine this. The metric that immediately makes the most sense in order to compare the diferent models is their accuracy. This makes sense because above all else the model's job is to make predictions, and if those predicitions aren't accurate they are useless. To this end the most accurate model that we have above is the bagging model, as it slightly edges out the boosting model by 0.004% accuracy. Of course the accuracy of the model isn't the only metric that can be used in order to compare the models. A different metric that we can look at is the confusion matrix of a model's predictions. This will allow us to gain more insight to the results as we will be able to see false positive/negatives whereas before we would only see if a single thing was wrong. If we were to use this metric we may get different results. Lets find out below if the confusion matrix changes what we might find as the most effective model."
      ]
    },
    {
      "cell_type": "code",
      "metadata": {
        "colab": {
          "base_uri": "https://localhost:8080/",
          "height": 1000
        },
        "id": "dnbgNl1fdpvG",
        "outputId": "be77287e-66d5-4102-bfe7-03b5e724e2d1"
      },
      "source": [
        "from sklearn.metrics import plot_confusion_matrix\n",
        "import matplotlib.pyplot as plt\n",
        "\n",
        "# Bagging model\n",
        "disp = plot_confusion_matrix(baggingModel, X_test, y_test,\n",
        "                            cmap=plt.cm.Blues)\n",
        "\n",
        "# Adaboost Classifier\n",
        "disp = plot_confusion_matrix(adaClassifier, X_test, y_test,\n",
        "                            cmap=plt.cm.Blues)\n",
        "\n",
        "# Gini Classifier model\n",
        "disp = plot_confusion_matrix(giniModel, X_test, y_test,\n",
        "                            cmap=plt.cm.Blues)\n",
        "\n",
        "# Entropy model\n",
        "disp = plot_confusion_matrix(entropyModel, X_test, y_test,\n",
        "                            cmap=plt.cm.Blues)"
      ],
      "execution_count": 66,
      "outputs": [
        {
          "output_type": "display_data",
          "data": {
            "image/png": "[encoded data removed]",
            "text/plain": [
              "<Figure size 432x288 with 2 Axes>"
            ]
          },
          "metadata": {
            "needs_background": "light"
          }
        },
        {
          "output_type": "display_data",
          "data": {
            "image/png": "[encoded data removed]",
            "text/plain": [
              "<Figure size 432x288 with 2 Axes>"
            ]
          },
          "metadata": {
            "needs_background": "light"
          }
        },
        {
          "output_type": "display_data",
          "data": {
            "image/png": "[encoded data removed]",
            "text/plain": [
              "<Figure size 432x288 with 2 Axes>"
            ]
          },
          "metadata": {
            "needs_background": "light"
          }
        },
        {
          "output_type": "display_data",
          "data": {
            "image/png": "[encoded data removed]",
            "text/plain": [
              "<Figure size 432x288 with 2 Axes>"
            ]
          },
          "metadata": {
            "needs_background": "light"
          }
        }
      ]
    },
    {
      "cell_type": "markdown",
      "metadata": {
        "id": "l9pL0ql1giyL"
      },
      "source": [
        "As we can see, 3 of the 4 confusion matricies are very similar to each other with no substantial differences. The odd one out was the adaboost model, which never incorrectly identified a student who would make it into the engineering program, but frequently had false positives and would admit students that shouldnt be admitted. Regardless though, using the different metric didnt make a difference as adaboost was the only model with a significantly different result, and we didn't say it was the most effective before. Thus, the differnet metric didnt make a difference in this specific instance. If we were to select a different metric there is a chance that the results would change. "
      ]
    }
  ]
}